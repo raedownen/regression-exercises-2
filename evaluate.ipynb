{
 "cells": [
  {
   "cell_type": "code",
   "execution_count": 1,
   "id": "b5c29c97",
   "metadata": {},
   "outputs": [],
   "source": [
    "import pandas as pd\n",
    "import numpy as np\n",
    "from sklearn.linear_model import LinearRegression\n",
    "import matplotlib.pyplot as plt\n",
    "import seaborn as sns\n",
    "from sklearn.metrics import r2_score\n",
    "#import sklearn mean_square_error\n",
    "from sklearn.metrics import mean_squared_error, explained_variance_score"
   ]
  },
  {
   "cell_type": "markdown",
   "id": "838b8f5f",
   "metadata": {},
   "source": [
    "1. Load your zillow dataset."
   ]
  },
  {
   "cell_type": "code",
   "execution_count": 2,
   "id": "dc6b3cb4",
   "metadata": {},
   "outputs": [],
   "source": [
    "df=pd.read_csv('clean_zillow.csv')"
   ]
  },
  {
   "cell_type": "code",
   "execution_count": 3,
   "id": "aadee66e",
   "metadata": {},
   "outputs": [],
   "source": [
    "df=df.drop(columns=['Unnamed: 0'])"
   ]
  },
  {
   "cell_type": "code",
   "execution_count": 4,
   "id": "de112f89",
   "metadata": {},
   "outputs": [
    {
     "data": {
      "text/html": [
       "<div>\n",
       "<style scoped>\n",
       "    .dataframe tbody tr th:only-of-type {\n",
       "        vertical-align: middle;\n",
       "    }\n",
       "\n",
       "    .dataframe tbody tr th {\n",
       "        vertical-align: top;\n",
       "    }\n",
       "\n",
       "    .dataframe thead th {\n",
       "        text-align: right;\n",
       "    }\n",
       "</style>\n",
       "<table border=\"1\" class=\"dataframe\">\n",
       "  <thead>\n",
       "    <tr style=\"text-align: right;\">\n",
       "      <th></th>\n",
       "      <th>Bedrooms</th>\n",
       "      <th>Bathrooms</th>\n",
       "      <th>Square_Feet</th>\n",
       "      <th>Total_Home_Value</th>\n",
       "      <th>Year_Built</th>\n",
       "      <th>Taxes</th>\n",
       "      <th>Region</th>\n",
       "      <th>Age</th>\n",
       "    </tr>\n",
       "  </thead>\n",
       "  <tbody>\n",
       "    <tr>\n",
       "      <th>0</th>\n",
       "      <td>4.0</td>\n",
       "      <td>2.0</td>\n",
       "      <td>3633.0</td>\n",
       "      <td>296425.0</td>\n",
       "      <td>2005.0</td>\n",
       "      <td>6941.39</td>\n",
       "      <td>6037.0</td>\n",
       "      <td>12.0</td>\n",
       "    </tr>\n",
       "    <tr>\n",
       "      <th>1</th>\n",
       "      <td>3.0</td>\n",
       "      <td>4.0</td>\n",
       "      <td>1620.0</td>\n",
       "      <td>847770.0</td>\n",
       "      <td>2011.0</td>\n",
       "      <td>10244.94</td>\n",
       "      <td>6037.0</td>\n",
       "      <td>6.0</td>\n",
       "    </tr>\n",
       "    <tr>\n",
       "      <th>2</th>\n",
       "      <td>3.0</td>\n",
       "      <td>2.0</td>\n",
       "      <td>2077.0</td>\n",
       "      <td>646760.0</td>\n",
       "      <td>1926.0</td>\n",
       "      <td>7924.68</td>\n",
       "      <td>6037.0</td>\n",
       "      <td>91.0</td>\n",
       "    </tr>\n",
       "    <tr>\n",
       "      <th>3</th>\n",
       "      <td>0.0</td>\n",
       "      <td>0.0</td>\n",
       "      <td>1200.0</td>\n",
       "      <td>5328.0</td>\n",
       "      <td>1972.0</td>\n",
       "      <td>91.60</td>\n",
       "      <td>6037.0</td>\n",
       "      <td>45.0</td>\n",
       "    </tr>\n",
       "    <tr>\n",
       "      <th>4</th>\n",
       "      <td>0.0</td>\n",
       "      <td>0.0</td>\n",
       "      <td>171.0</td>\n",
       "      <td>6920.0</td>\n",
       "      <td>1973.0</td>\n",
       "      <td>255.17</td>\n",
       "      <td>6037.0</td>\n",
       "      <td>44.0</td>\n",
       "    </tr>\n",
       "  </tbody>\n",
       "</table>\n",
       "</div>"
      ],
      "text/plain": [
       "   Bedrooms  Bathrooms  Square_Feet  Total_Home_Value  Year_Built     Taxes  \\\n",
       "0       4.0        2.0       3633.0          296425.0      2005.0   6941.39   \n",
       "1       3.0        4.0       1620.0          847770.0      2011.0  10244.94   \n",
       "2       3.0        2.0       2077.0          646760.0      1926.0   7924.68   \n",
       "3       0.0        0.0       1200.0            5328.0      1972.0     91.60   \n",
       "4       0.0        0.0        171.0            6920.0      1973.0    255.17   \n",
       "\n",
       "   Region   Age  \n",
       "0  6037.0  12.0  \n",
       "1  6037.0   6.0  \n",
       "2  6037.0  91.0  \n",
       "3  6037.0  45.0  \n",
       "4  6037.0  44.0  "
      ]
     },
     "execution_count": 4,
     "metadata": {},
     "output_type": "execute_result"
    }
   ],
   "source": [
    "df.head()"
   ]
  },
  {
   "cell_type": "markdown",
   "id": "72dd2404",
   "metadata": {},
   "source": [
    "# RMSE= sklearn.mean_squared_error('squared = False')"
   ]
  },
  {
   "cell_type": "markdown",
   "id": "09ad8f3e",
   "metadata": {},
   "source": [
    "Exercises\n",
    "Do your work for this exercise in either a jupyter notebook named evaluate within your regression-exercises repository. By the end of this exercise you will also create a python script named evaluate, so the overall deliverables for this exercise are the python script and jupyter notebook both with the name evaluate within your regression-exercises repo."
   ]
  },
  {
   "cell_type": "markdown",
   "id": "6095c397",
   "metadata": {},
   "source": [
    "2. Fit a linear regression model (ordinary least squares) and compute yhat, predictions of taxvaluedollarcnt using only calculatedfinishedsqft.\n",
    "\n",
    "Here is some sample code to get you started:\n",
    "\n",
    "from sklearn.linear_model import LinearRegression\n",
    "\n",
    "#assuming X and y are already defined\n",
    "model = LinearRegression().fit(X, y)\n",
    "predictions = model.predict(X)\n",
    "Modify and add to the code above as necessary for it to work with the zillow dataset."
   ]
  },
  {
   "cell_type": "code",
   "execution_count": 5,
   "id": "3a72c6e5",
   "metadata": {},
   "outputs": [],
   "source": [
    "df1 = pd.concat([df.Square_Feet, df.Total_Home_Value], axis=1)\n"
   ]
  },
  {
   "cell_type": "code",
   "execution_count": 6,
   "id": "b9647948",
   "metadata": {},
   "outputs": [
    {
     "data": {
      "text/html": [
       "<div>\n",
       "<style scoped>\n",
       "    .dataframe tbody tr th:only-of-type {\n",
       "        vertical-align: middle;\n",
       "    }\n",
       "\n",
       "    .dataframe tbody tr th {\n",
       "        vertical-align: top;\n",
       "    }\n",
       "\n",
       "    .dataframe thead th {\n",
       "        text-align: right;\n",
       "    }\n",
       "</style>\n",
       "<table border=\"1\" class=\"dataframe\">\n",
       "  <thead>\n",
       "    <tr style=\"text-align: right;\">\n",
       "      <th></th>\n",
       "      <th>Square_Feet</th>\n",
       "      <th>Total_Home_Value</th>\n",
       "    </tr>\n",
       "  </thead>\n",
       "  <tbody>\n",
       "    <tr>\n",
       "      <th>0</th>\n",
       "      <td>3633.0</td>\n",
       "      <td>296425.0</td>\n",
       "    </tr>\n",
       "    <tr>\n",
       "      <th>1</th>\n",
       "      <td>1620.0</td>\n",
       "      <td>847770.0</td>\n",
       "    </tr>\n",
       "    <tr>\n",
       "      <th>2</th>\n",
       "      <td>2077.0</td>\n",
       "      <td>646760.0</td>\n",
       "    </tr>\n",
       "    <tr>\n",
       "      <th>3</th>\n",
       "      <td>1200.0</td>\n",
       "      <td>5328.0</td>\n",
       "    </tr>\n",
       "    <tr>\n",
       "      <th>4</th>\n",
       "      <td>171.0</td>\n",
       "      <td>6920.0</td>\n",
       "    </tr>\n",
       "  </tbody>\n",
       "</table>\n",
       "</div>"
      ],
      "text/plain": [
       "   Square_Feet  Total_Home_Value\n",
       "0       3633.0          296425.0\n",
       "1       1620.0          847770.0\n",
       "2       2077.0          646760.0\n",
       "3       1200.0            5328.0\n",
       "4        171.0            6920.0"
      ]
     },
     "execution_count": 6,
     "metadata": {},
     "output_type": "execute_result"
    }
   ],
   "source": [
    "df1.head()"
   ]
  },
  {
   "cell_type": "code",
   "execution_count": 7,
   "id": "ea1aa6e0",
   "metadata": {},
   "outputs": [
    {
     "data": {
      "image/png": "[encoded data removed]",
      "text/plain": [
       "<Figure size 432x288 with 1 Axes>"
      ]
     },
     "metadata": {
      "needs_background": "light"
     },
     "output_type": "display_data"
    }
   ],
   "source": [
    "# look at scatter of x vs y\n",
    "plt.scatter(df1.Square_Feet, df.Total_Home_Value)\n",
    "\n",
    "plt.xlabel('x = Square_Feet')\n",
    "plt.ylabel('y = Total_Home_Value')\n",
    "plt.show()"
   ]
  },
  {
   "cell_type": "code",
   "execution_count": 8,
   "id": "a60ac412",
   "metadata": {},
   "outputs": [
    {
     "data": {
      "text/plain": [
       "394488.21993695776"
      ]
     },
     "execution_count": 8,
     "metadata": {},
     "output_type": "execute_result"
    }
   ],
   "source": [
    "baseline = df1['Total_Home_Value'].mean()\n",
    "baseline\n"
   ]
  },
  {
   "cell_type": "code",
   "execution_count": 9,
   "id": "d49e4b7f",
   "metadata": {},
   "outputs": [],
   "source": [
    "#add it to the df\n",
    "df1['baseline'] = baseline"
   ]
  },
  {
   "cell_type": "code",
   "execution_count": 10,
   "id": "af420caa",
   "metadata": {},
   "outputs": [
    {
     "data": {
      "image/png": "[encoded data removed]",
      "text/plain": [
       "<Figure size 432x288 with 1 Axes>"
      ]
     },
     "metadata": {
      "needs_background": "light"
     },
     "output_type": "display_data"
    }
   ],
   "source": [
    "# plot data with baseline:\n",
    "plt.scatter(df1.Square_Feet, df1.Total_Home_Value)\n",
    "plt.axhline(baseline, ls=':')\n",
    "\n",
    "plt.xlabel('x = Square_Feet')\n",
    "plt.ylabel('y = Total_Home_Value')\n",
    "plt.title('baseline model')\n",
    "plt.show()"
   ]
  },
  {
   "cell_type": "code",
   "execution_count": 11,
   "id": "139ac1c9",
   "metadata": {},
   "outputs": [
    {
     "data": {
      "text/html": [
       "<div>\n",
       "<style scoped>\n",
       "    .dataframe tbody tr th:only-of-type {\n",
       "        vertical-align: middle;\n",
       "    }\n",
       "\n",
       "    .dataframe tbody tr th {\n",
       "        vertical-align: top;\n",
       "    }\n",
       "\n",
       "    .dataframe thead th {\n",
       "        text-align: right;\n",
       "    }\n",
       "</style>\n",
       "<table border=\"1\" class=\"dataframe\">\n",
       "  <thead>\n",
       "    <tr style=\"text-align: right;\">\n",
       "      <th></th>\n",
       "      <th>Square_Feet</th>\n",
       "      <th>Total_Home_Value</th>\n",
       "      <th>baseline</th>\n",
       "    </tr>\n",
       "  </thead>\n",
       "  <tbody>\n",
       "    <tr>\n",
       "      <th>0</th>\n",
       "      <td>3633.0</td>\n",
       "      <td>296425.0</td>\n",
       "      <td>394488.219937</td>\n",
       "    </tr>\n",
       "    <tr>\n",
       "      <th>1</th>\n",
       "      <td>1620.0</td>\n",
       "      <td>847770.0</td>\n",
       "      <td>394488.219937</td>\n",
       "    </tr>\n",
       "    <tr>\n",
       "      <th>2</th>\n",
       "      <td>2077.0</td>\n",
       "      <td>646760.0</td>\n",
       "      <td>394488.219937</td>\n",
       "    </tr>\n",
       "    <tr>\n",
       "      <th>3</th>\n",
       "      <td>1200.0</td>\n",
       "      <td>5328.0</td>\n",
       "      <td>394488.219937</td>\n",
       "    </tr>\n",
       "    <tr>\n",
       "      <th>4</th>\n",
       "      <td>171.0</td>\n",
       "      <td>6920.0</td>\n",
       "      <td>394488.219937</td>\n",
       "    </tr>\n",
       "  </tbody>\n",
       "</table>\n",
       "</div>"
      ],
      "text/plain": [
       "   Square_Feet  Total_Home_Value       baseline\n",
       "0       3633.0          296425.0  394488.219937\n",
       "1       1620.0          847770.0  394488.219937\n",
       "2       2077.0          646760.0  394488.219937\n",
       "3       1200.0            5328.0  394488.219937\n",
       "4        171.0            6920.0  394488.219937"
      ]
     },
     "execution_count": 11,
     "metadata": {},
     "output_type": "execute_result"
    }
   ],
   "source": [
    "df1.head()"
   ]
  },
  {
   "cell_type": "code",
   "execution_count": 12,
   "id": "269f253a",
   "metadata": {},
   "outputs": [],
   "source": [
    "from sklearn.linear_model import LinearRegression\n",
    "# OLS = ordinary least squares\n",
    "# create the model object\n",
    "lm = LinearRegression()\n",
    "\n",
    "# fit the model to training data\n",
    "lm.fit(df1[['Square_Feet']], df1.Total_Home_Value)\n",
    "\n",
    "# make prediction\n",
    "# lm.predict will output a numpy array of values,\n",
    "# we will put those values into a series in df\n",
    "df1['yhat'] = lm.predict(df1[['Square_Feet']])"
   ]
  },
  {
   "cell_type": "code",
   "execution_count": 13,
   "id": "e9112d42",
   "metadata": {},
   "outputs": [
    {
     "data": {
      "text/html": [
       "<div>\n",
       "<style scoped>\n",
       "    .dataframe tbody tr th:only-of-type {\n",
       "        vertical-align: middle;\n",
       "    }\n",
       "\n",
       "    .dataframe tbody tr th {\n",
       "        vertical-align: top;\n",
       "    }\n",
       "\n",
       "    .dataframe thead th {\n",
       "        text-align: right;\n",
       "    }\n",
       "</style>\n",
       "<table border=\"1\" class=\"dataframe\">\n",
       "  <thead>\n",
       "    <tr style=\"text-align: right;\">\n",
       "      <th></th>\n",
       "      <th>Square_Feet</th>\n",
       "      <th>Total_Home_Value</th>\n",
       "      <th>baseline</th>\n",
       "      <th>yhat</th>\n",
       "    </tr>\n",
       "  </thead>\n",
       "  <tbody>\n",
       "    <tr>\n",
       "      <th>0</th>\n",
       "      <td>3633.0</td>\n",
       "      <td>296425.0</td>\n",
       "      <td>394488.219937</td>\n",
       "      <td>821856.726439</td>\n",
       "    </tr>\n",
       "    <tr>\n",
       "      <th>1</th>\n",
       "      <td>1620.0</td>\n",
       "      <td>847770.0</td>\n",
       "      <td>394488.219937</td>\n",
       "      <td>356968.598708</td>\n",
       "    </tr>\n",
       "    <tr>\n",
       "      <th>2</th>\n",
       "      <td>2077.0</td>\n",
       "      <td>646760.0</td>\n",
       "      <td>394488.219937</td>\n",
       "      <td>462509.519907</td>\n",
       "    </tr>\n",
       "    <tr>\n",
       "      <th>3</th>\n",
       "      <td>1200.0</td>\n",
       "      <td>5328.0</td>\n",
       "      <td>394488.219937</td>\n",
       "      <td>259972.566097</td>\n",
       "    </tr>\n",
       "    <tr>\n",
       "      <th>4</th>\n",
       "      <td>171.0</td>\n",
       "      <td>6920.0</td>\n",
       "      <td>394488.219937</td>\n",
       "      <td>22332.286199</td>\n",
       "    </tr>\n",
       "  </tbody>\n",
       "</table>\n",
       "</div>"
      ],
      "text/plain": [
       "   Square_Feet  Total_Home_Value       baseline           yhat\n",
       "0       3633.0          296425.0  394488.219937  821856.726439\n",
       "1       1620.0          847770.0  394488.219937  356968.598708\n",
       "2       2077.0          646760.0  394488.219937  462509.519907\n",
       "3       1200.0            5328.0  394488.219937  259972.566097\n",
       "4        171.0            6920.0  394488.219937   22332.286199"
      ]
     },
     "execution_count": 13,
     "metadata": {},
     "output_type": "execute_result"
    }
   ],
   "source": [
    "df1.head()"
   ]
  },
  {
   "cell_type": "markdown",
   "id": "66fcee23",
   "metadata": {},
   "source": [
    "Variables\n",
    "- x: Square_Feet\n",
    "- y: Total_Home_Value\n",
    "- baseline: Total_Home_Value baseline prediction\n",
    "- yhat: Total_Home_Value OLS prediction"
   ]
  },
  {
   "cell_type": "code",
   "execution_count": 14,
   "id": "c44ea848",
   "metadata": {},
   "outputs": [
    {
     "data": {
      "image/png": "[encoded data removed]",
      "text/plain": [
       "<Figure size 432x288 with 1 Axes>"
      ]
     },
     "metadata": {
      "needs_background": "light"
     },
     "output_type": "display_data"
    }
   ],
   "source": [
    "# visualize the line of best fit from OLS linear model\n",
    "\n",
    "#scatter is my actuals\n",
    "plt.scatter(df1.Square_Feet, df1.Total_Home_Value)\n",
    "\n",
    "#lineplot is my regression line\n",
    "plt.plot(df1.Square_Feet, df1.yhat)\n",
    "\n",
    "plt.xlabel('x = Square_Feet')\n",
    "plt.ylabel('y = Total_Home_Value')\n",
    "plt.title('OLS linear model')\n",
    "plt.show()\n"
   ]
  },
  {
   "cell_type": "markdown",
   "id": "9ba5bdeb",
   "metadata": {},
   "source": [
    "3. Plot the residuals for the linear regression model that you made."
   ]
  },
  {
   "cell_type": "code",
   "execution_count": 15,
   "id": "de7052cb",
   "metadata": {},
   "outputs": [],
   "source": [
    "# compute residuals - Residual: error (change in actual and predicted)\n",
    "# residual = actual - predicted\n",
    "df1['baseline_residual'] = df1.Total_Home_Value - df1.baseline\n",
    "df1['residual'] = df1.Total_Home_Value - df1.yhat"
   ]
  },
  {
   "cell_type": "code",
   "execution_count": 16,
   "id": "b5d52186",
   "metadata": {},
   "outputs": [
    {
     "data": {
      "text/html": [
       "<div>\n",
       "<style scoped>\n",
       "    .dataframe tbody tr th:only-of-type {\n",
       "        vertical-align: middle;\n",
       "    }\n",
       "\n",
       "    .dataframe tbody tr th {\n",
       "        vertical-align: top;\n",
       "    }\n",
       "\n",
       "    .dataframe thead th {\n",
       "        text-align: right;\n",
       "    }\n",
       "</style>\n",
       "<table border=\"1\" class=\"dataframe\">\n",
       "  <thead>\n",
       "    <tr style=\"text-align: right;\">\n",
       "      <th></th>\n",
       "      <th>Square_Feet</th>\n",
       "      <th>Total_Home_Value</th>\n",
       "      <th>baseline</th>\n",
       "      <th>yhat</th>\n",
       "      <th>baseline_residual</th>\n",
       "      <th>residual</th>\n",
       "    </tr>\n",
       "  </thead>\n",
       "  <tbody>\n",
       "    <tr>\n",
       "      <th>0</th>\n",
       "      <td>3633.0</td>\n",
       "      <td>296425.0</td>\n",
       "      <td>394488.219937</td>\n",
       "      <td>821856.726439</td>\n",
       "      <td>-98063.219937</td>\n",
       "      <td>-525431.726439</td>\n",
       "    </tr>\n",
       "    <tr>\n",
       "      <th>1</th>\n",
       "      <td>1620.0</td>\n",
       "      <td>847770.0</td>\n",
       "      <td>394488.219937</td>\n",
       "      <td>356968.598708</td>\n",
       "      <td>453281.780063</td>\n",
       "      <td>490801.401292</td>\n",
       "    </tr>\n",
       "    <tr>\n",
       "      <th>2</th>\n",
       "      <td>2077.0</td>\n",
       "      <td>646760.0</td>\n",
       "      <td>394488.219937</td>\n",
       "      <td>462509.519907</td>\n",
       "      <td>252271.780063</td>\n",
       "      <td>184250.480093</td>\n",
       "    </tr>\n",
       "    <tr>\n",
       "      <th>3</th>\n",
       "      <td>1200.0</td>\n",
       "      <td>5328.0</td>\n",
       "      <td>394488.219937</td>\n",
       "      <td>259972.566097</td>\n",
       "      <td>-389160.219937</td>\n",
       "      <td>-254644.566097</td>\n",
       "    </tr>\n",
       "    <tr>\n",
       "      <th>4</th>\n",
       "      <td>171.0</td>\n",
       "      <td>6920.0</td>\n",
       "      <td>394488.219937</td>\n",
       "      <td>22332.286199</td>\n",
       "      <td>-387568.219937</td>\n",
       "      <td>-15412.286199</td>\n",
       "    </tr>\n",
       "  </tbody>\n",
       "</table>\n",
       "</div>"
      ],
      "text/plain": [
       "   Square_Feet  Total_Home_Value       baseline           yhat  \\\n",
       "0       3633.0          296425.0  394488.219937  821856.726439   \n",
       "1       1620.0          847770.0  394488.219937  356968.598708   \n",
       "2       2077.0          646760.0  394488.219937  462509.519907   \n",
       "3       1200.0            5328.0  394488.219937  259972.566097   \n",
       "4        171.0            6920.0  394488.219937   22332.286199   \n",
       "\n",
       "   baseline_residual       residual  \n",
       "0      -98063.219937 -525431.726439  \n",
       "1      453281.780063  490801.401292  \n",
       "2      252271.780063  184250.480093  \n",
       "3     -389160.219937 -254644.566097  \n",
       "4     -387568.219937  -15412.286199  "
      ]
     },
     "execution_count": 16,
     "metadata": {},
     "output_type": "execute_result"
    }
   ],
   "source": [
    "df1.head()"
   ]
  },
  {
   "cell_type": "code",
   "execution_count": null,
   "id": "143014ff",
   "metadata": {},
   "outputs": [],
   "source": [
    "sns.scatterplot(data=df1, x= \"Total_Home_Value\", y=\"residual\")\n",
    "plt.xlabel('ome value')\n",
    "plt.ylabel()\n",
    "plt.title\n",
    "plt.show()"
   ]
  },
  {
   "cell_type": "code",
   "execution_count": 17,
   "id": "1e72dd94",
   "metadata": {},
   "outputs": [
    {
     "data": {
      "text/plain": [
       "4.146993160247803e-05"
      ]
     },
     "execution_count": 17,
     "metadata": {},
     "output_type": "execute_result"
    }
   ],
   "source": [
    "#baseline residual sum\n",
    "df1.baseline_residual.sum()"
   ]
  },
  {
   "cell_type": "code",
   "execution_count": 18,
   "id": "a8004bbc",
   "metadata": {},
   "outputs": [
    {
     "data": {
      "text/plain": [
       "5.498528480529785e-06"
      ]
     },
     "execution_count": 18,
     "metadata": {},
     "output_type": "execute_result"
    }
   ],
   "source": [
    "#osl residual sum\n",
    "df1.residual.sum()"
   ]
  },
  {
   "cell_type": "markdown",
   "id": "d6ef8ead",
   "metadata": {},
   "source": [
    "4a. Calculate for your model:\n",
    "-sum of squared errors\n",
    "-mean squared error\n",
    "-root mean squared error "
   ]
  },
  {
   "cell_type": "markdown",
   "id": "3705ba05",
   "metadata": {},
   "source": [
    "5. Calculate for the baseline model:\n",
    "-sum of squared errors\n",
    "-mean squared error\n",
    "-root mean squared error"
   ]
  },
  {
   "cell_type": "code",
   "execution_count": 19,
   "id": "baa753e0",
   "metadata": {},
   "outputs": [],
   "source": [
    "#SSE (Sum of Squared Errors)\n",
    "# the difference between yhat and y, just squared\n",
    "df1['baseline_residual_2'] = df1.baseline_residual**2\n",
    "df1['residual_2'] = df1.residual**2"
   ]
  },
  {
   "cell_type": "code",
   "execution_count": 20,
   "id": "9420d04e",
   "metadata": {},
   "outputs": [
    {
     "data": {
      "text/html": [
       "<div>\n",
       "<style scoped>\n",
       "    .dataframe tbody tr th:only-of-type {\n",
       "        vertical-align: middle;\n",
       "    }\n",
       "\n",
       "    .dataframe tbody tr th {\n",
       "        vertical-align: top;\n",
       "    }\n",
       "\n",
       "    .dataframe thead th {\n",
       "        text-align: right;\n",
       "    }\n",
       "</style>\n",
       "<table border=\"1\" class=\"dataframe\">\n",
       "  <thead>\n",
       "    <tr style=\"text-align: right;\">\n",
       "      <th></th>\n",
       "      <th>Square_Feet</th>\n",
       "      <th>Total_Home_Value</th>\n",
       "      <th>baseline</th>\n",
       "      <th>yhat</th>\n",
       "      <th>baseline_residual</th>\n",
       "      <th>residual</th>\n",
       "      <th>baseline_residual_2</th>\n",
       "      <th>residual_2</th>\n",
       "    </tr>\n",
       "  </thead>\n",
       "  <tbody>\n",
       "    <tr>\n",
       "      <th>0</th>\n",
       "      <td>3633.0</td>\n",
       "      <td>296425.0</td>\n",
       "      <td>394488.219937</td>\n",
       "      <td>821856.726439</td>\n",
       "      <td>-98063.219937</td>\n",
       "      <td>-525431.726439</td>\n",
       "      <td>9.616395e+09</td>\n",
       "      <td>2.760785e+11</td>\n",
       "    </tr>\n",
       "    <tr>\n",
       "      <th>1</th>\n",
       "      <td>1620.0</td>\n",
       "      <td>847770.0</td>\n",
       "      <td>394488.219937</td>\n",
       "      <td>356968.598708</td>\n",
       "      <td>453281.780063</td>\n",
       "      <td>490801.401292</td>\n",
       "      <td>2.054644e+11</td>\n",
       "      <td>2.408860e+11</td>\n",
       "    </tr>\n",
       "    <tr>\n",
       "      <th>2</th>\n",
       "      <td>2077.0</td>\n",
       "      <td>646760.0</td>\n",
       "      <td>394488.219937</td>\n",
       "      <td>462509.519907</td>\n",
       "      <td>252271.780063</td>\n",
       "      <td>184250.480093</td>\n",
       "      <td>6.364105e+10</td>\n",
       "      <td>3.394824e+10</td>\n",
       "    </tr>\n",
       "    <tr>\n",
       "      <th>3</th>\n",
       "      <td>1200.0</td>\n",
       "      <td>5328.0</td>\n",
       "      <td>394488.219937</td>\n",
       "      <td>259972.566097</td>\n",
       "      <td>-389160.219937</td>\n",
       "      <td>-254644.566097</td>\n",
       "      <td>1.514457e+11</td>\n",
       "      <td>6.484386e+10</td>\n",
       "    </tr>\n",
       "    <tr>\n",
       "      <th>4</th>\n",
       "      <td>171.0</td>\n",
       "      <td>6920.0</td>\n",
       "      <td>394488.219937</td>\n",
       "      <td>22332.286199</td>\n",
       "      <td>-387568.219937</td>\n",
       "      <td>-15412.286199</td>\n",
       "      <td>1.502091e+11</td>\n",
       "      <td>2.375386e+08</td>\n",
       "    </tr>\n",
       "  </tbody>\n",
       "</table>\n",
       "</div>"
      ],
      "text/plain": [
       "   Square_Feet  Total_Home_Value       baseline           yhat  \\\n",
       "0       3633.0          296425.0  394488.219937  821856.726439   \n",
       "1       1620.0          847770.0  394488.219937  356968.598708   \n",
       "2       2077.0          646760.0  394488.219937  462509.519907   \n",
       "3       1200.0            5328.0  394488.219937  259972.566097   \n",
       "4        171.0            6920.0  394488.219937   22332.286199   \n",
       "\n",
       "   baseline_residual       residual  baseline_residual_2    residual_2  \n",
       "0      -98063.219937 -525431.726439         9.616395e+09  2.760785e+11  \n",
       "1      453281.780063  490801.401292         2.054644e+11  2.408860e+11  \n",
       "2      252271.780063  184250.480093         6.364105e+10  3.394824e+10  \n",
       "3     -389160.219937 -254644.566097         1.514457e+11  6.484386e+10  \n",
       "4     -387568.219937  -15412.286199         1.502091e+11  2.375386e+08  "
      ]
     },
     "execution_count": 20,
     "metadata": {},
     "output_type": "execute_result"
    }
   ],
   "source": [
    "df1.head()"
   ]
  },
  {
   "cell_type": "code",
   "execution_count": 21,
   "id": "ea968bb8",
   "metadata": {},
   "outputs": [],
   "source": [
    "#add the residuals together\n",
    "SSE_baseline = df1.baseline_residual_2.sum()\n",
    "SSE = df1.residual_2.sum()"
   ]
  },
  {
   "cell_type": "code",
   "execution_count": 22,
   "id": "d94757ca",
   "metadata": {},
   "outputs": [
    {
     "name": "stdout",
     "output_type": "stream",
     "text": [
      "SSE Baseline = 196365606565941952.0\n",
      "SSE = 132761251645543104.0\n"
     ]
    }
   ],
   "source": [
    "#compare \n",
    "print(\"SSE Baseline =\", \"{:.1f}\".format(SSE_baseline))\n",
    "print('SSE =', \"{:.1f}\".format(SSE))"
   ]
  },
  {
   "cell_type": "code",
   "execution_count": 23,
   "id": "dc567ce2",
   "metadata": {},
   "outputs": [
    {
     "data": {
      "text/plain": [
       "True"
      ]
     },
     "execution_count": 23,
     "metadata": {},
     "output_type": "execute_result"
    }
   ],
   "source": [
    "SSE_baseline > SSE"
   ]
  },
  {
   "cell_type": "markdown",
   "id": "304beae5",
   "metadata": {},
   "source": [
    "MSE (Mean Squared Error)-the average of your errors that have each been squared.  \n",
    "MSE = SSE/(no. of data points)"
   ]
  },
  {
   "cell_type": "code",
   "execution_count": 24,
   "id": "ee1f02d2",
   "metadata": {},
   "outputs": [],
   "source": [
    "#calcaluate MSE\n",
    "MSE_baseline = SSE_baseline/len(df1)\n",
    "MSE = SSE/len(df1)"
   ]
  },
  {
   "cell_type": "code",
   "execution_count": 25,
   "id": "8eece718",
   "metadata": {},
   "outputs": [
    {
     "name": "stdout",
     "output_type": "stream",
     "text": [
      "MSE baseline = 94182315260.0\n",
      "MSE = 63675927141.5\n"
     ]
    }
   ],
   "source": [
    "print(f\"MSE baseline = {MSE_baseline:.1f}\")\n",
    "print(f'MSE = {MSE:.1f}')"
   ]
  },
  {
   "cell_type": "code",
   "execution_count": 26,
   "id": "a08619d0",
   "metadata": {},
   "outputs": [
    {
     "data": {
      "text/plain": [
       "True"
      ]
     },
     "execution_count": 26,
     "metadata": {},
     "output_type": "execute_result"
    }
   ],
   "source": [
    "MSE_baseline > MSE"
   ]
  },
  {
   "cell_type": "markdown",
   "id": "8af255ca",
   "metadata": {},
   "source": [
    "RMSE (Root Mean Squared Error)\n",
    "Square root of MSE\n",
    "Same units as the output (y) variable"
   ]
  },
  {
   "cell_type": "code",
   "execution_count": 27,
   "id": "3c6205b2",
   "metadata": {},
   "outputs": [],
   "source": [
    "#calculate RMSE\n",
    "RMSE_baseline = MSE_baseline**.5\n",
    "RMSE = MSE**.5"
   ]
  },
  {
   "cell_type": "code",
   "execution_count": 28,
   "id": "d53bf76f",
   "metadata": {},
   "outputs": [
    {
     "name": "stdout",
     "output_type": "stream",
     "text": [
      "RMSE baseline =  306891.4\n",
      "RMSE =  252340.9\n"
     ]
    }
   ],
   "source": [
    "print(\"RMSE baseline = \", \"{:.1f}\".format(RMSE_baseline))\n",
    "print(\"RMSE = \", \"{:.1f}\".format(RMSE))"
   ]
  },
  {
   "cell_type": "code",
   "execution_count": 29,
   "id": "13f09f64",
   "metadata": {},
   "outputs": [
    {
     "data": {
      "text/plain": [
       "True"
      ]
     },
     "execution_count": 29,
     "metadata": {},
     "output_type": "execute_result"
    }
   ],
   "source": [
    "RMSE_baseline > RMSE"
   ]
  },
  {
   "cell_type": "code",
   "execution_count": 30,
   "id": "8b0556a6",
   "metadata": {},
   "outputs": [
    {
     "name": "stdout",
     "output_type": "stream",
     "text": [
      "SSE manual == SSE sklearn:  True\n",
      "SSE manual - baseline == SSE sklearn - baseline:  True\n"
     ]
    }
   ],
   "source": [
    "from sklearn.metrics import mean_squared_error\n",
    "\n",
    "SSE2 = mean_squared_error(df1.Total_Home_Value, df1.yhat)*len(df1)\n",
    "SSE2_baseline = mean_squared_error(df1.Total_Home_Value, df1.baseline)*len(df1)\n",
    "\n",
    "print(\"SSE manual == SSE sklearn: \", SSE == SSE2) \n",
    "print(\"SSE manual - baseline == SSE sklearn - baseline: \", SSE_baseline == SSE2_baseline) \n"
   ]
  },
  {
   "cell_type": "code",
   "execution_count": 31,
   "id": "87e9b0f0",
   "metadata": {},
   "outputs": [
    {
     "name": "stdout",
     "output_type": "stream",
     "text": [
      "MSE manual == MSE sklearn:  True\n",
      "MSE manual - baseline == MSE sklearn - baseline:  True\n"
     ]
    }
   ],
   "source": [
    "MSE2 = mean_squared_error(df1.Total_Home_Value, df1.yhat)\n",
    "\n",
    "MSE2_baseline = mean_squared_error(df1.Total_Home_Value, df1.baseline)\n",
    "\n",
    "\n",
    "print(\"MSE manual == MSE sklearn: \", MSE == MSE2) \n",
    "print(\"MSE manual - baseline == MSE sklearn - baseline: \", MSE_baseline == MSE2_baseline) \n"
   ]
  },
  {
   "cell_type": "code",
   "execution_count": 32,
   "id": "cac41b54",
   "metadata": {},
   "outputs": [
    {
     "name": "stdout",
     "output_type": "stream",
     "text": [
      "RMSE manual == RMSE skearn:  True\n",
      "RMSE manual - baseline == RMSE skearn - baseline:  True\n"
     ]
    }
   ],
   "source": [
    "from math import sqrt\n",
    "RMSE2 = sqrt(mean_squared_error(df1.Total_Home_Value, df1.yhat))\n",
    "RMSE2_baseline = sqrt(mean_squared_error(df.Total_Home_Value, df1.baseline))\n",
    "\n",
    "print(\"RMSE manual == RMSE skearn: \", RMSE == RMSE2) \n",
    "print(\"RMSE manual - baseline == RMSE skearn - baseline: \", RMSE_baseline == RMSE2_baseline) \n"
   ]
  },
  {
   "cell_type": "code",
   "execution_count": 33,
   "id": "0a4aa983",
   "metadata": {},
   "outputs": [
    {
     "name": "stdout",
     "output_type": "stream",
     "text": [
      "  metric   model_error\n",
      "0    SSE  1.327613e+17\n",
      "1    MSE  6.367593e+10\n",
      "2   RMSE  2.523409e+05\n",
      "          metric   model_error\n",
      "0   SSE_baseline  1.963656e+17\n",
      "1   MSE_baseline  9.418232e+10\n",
      "2  RMSE_baseline  3.068914e+05\n"
     ]
    }
   ],
   "source": [
    "df_eval = pd.DataFrame(np.array(['SSE','MSE','RMSE']), columns=['metric'])\n",
    "df_baseline_eval = pd.DataFrame(np.array(['SSE_baseline','MSE_baseline','RMSE_baseline']), columns=['metric'])\n",
    "\n",
    "df_eval['model_error'] = np.array([SSE, MSE, RMSE])\n",
    "df_baseline_eval['model_error'] = np.array([SSE_baseline, MSE_baseline, RMSE_baseline])\n",
    "\n",
    "print(df_eval)\n",
    "print(df_baseline_eval)\n"
   ]
  },
  {
   "cell_type": "code",
   "execution_count": 34,
   "id": "e3ccaff2",
   "metadata": {},
   "outputs": [
    {
     "data": {
      "text/html": [
       "<div>\n",
       "<style scoped>\n",
       "    .dataframe tbody tr th:only-of-type {\n",
       "        vertical-align: middle;\n",
       "    }\n",
       "\n",
       "    .dataframe tbody tr th {\n",
       "        vertical-align: top;\n",
       "    }\n",
       "\n",
       "    .dataframe thead th {\n",
       "        text-align: right;\n",
       "    }\n",
       "</style>\n",
       "<table border=\"1\" class=\"dataframe\">\n",
       "  <thead>\n",
       "    <tr style=\"text-align: right;\">\n",
       "      <th></th>\n",
       "      <th>metric</th>\n",
       "      <th>model_error</th>\n",
       "      <th>error_delta</th>\n",
       "    </tr>\n",
       "  </thead>\n",
       "  <tbody>\n",
       "    <tr>\n",
       "      <th>0</th>\n",
       "      <td>SSE</td>\n",
       "      <td>1.327613e+17</td>\n",
       "      <td>-6.360435e+16</td>\n",
       "    </tr>\n",
       "    <tr>\n",
       "      <th>1</th>\n",
       "      <td>MSE</td>\n",
       "      <td>6.367593e+10</td>\n",
       "      <td>-3.050639e+10</td>\n",
       "    </tr>\n",
       "    <tr>\n",
       "      <th>2</th>\n",
       "      <td>RMSE</td>\n",
       "      <td>2.523409e+05</td>\n",
       "      <td>-5.455048e+04</td>\n",
       "    </tr>\n",
       "  </tbody>\n",
       "</table>\n",
       "</div>"
      ],
      "text/plain": [
       "  metric   model_error   error_delta\n",
       "0    SSE  1.327613e+17 -6.360435e+16\n",
       "1    MSE  6.367593e+10 -3.050639e+10\n",
       "2   RMSE  2.523409e+05 -5.455048e+04"
      ]
     },
     "execution_count": 34,
     "metadata": {},
     "output_type": "execute_result"
    }
   ],
   "source": [
    "df_eval['error_delta'] = df_eval.model_error - df_baseline_eval.model_error\n",
    "df_eval\n"
   ]
  },
  {
   "cell_type": "markdown",
   "id": "a8ee5755",
   "metadata": {},
   "source": [
    "4b. Calculate for your model:\n",
    "\n",
    "-explained sum of squares is the sum of the difference between the each predicted value and the mean of \n",
    "all actual values\n",
    "\n",
    "-total sum of squares"
   ]
  },
  {
   "cell_type": "code",
   "execution_count": 35,
   "id": "c7f04dcf",
   "metadata": {},
   "outputs": [],
   "source": [
    "#ESS\n",
    "# compute explained sum of squares\n",
    "ESS = sum((df1.yhat - df1.Total_Home_Value.mean())**2)"
   ]
  },
  {
   "cell_type": "code",
   "execution_count": 36,
   "id": "b726f28a",
   "metadata": {},
   "outputs": [
    {
     "data": {
      "text/plain": [
       "6.360435492045919e+16"
      ]
     },
     "execution_count": 36,
     "metadata": {},
     "output_type": "execute_result"
    }
   ],
   "source": [
    "ESS"
   ]
  },
  {
   "cell_type": "code",
   "execution_count": null,
   "id": "becca84e",
   "metadata": {},
   "outputs": [],
   "source": []
  },
  {
   "cell_type": "markdown",
   "id": "04e9cedc",
   "metadata": {},
   "source": [
    "6. Write python code that compares the sum of squared errors for your model against the sum of squared errors for the baseline model and outputs whether or not your model performs better than the baseline model."
   ]
  },
  {
   "cell_type": "code",
   "execution_count": null,
   "id": "7a1813f9",
   "metadata": {},
   "outputs": [],
   "source": []
  },
  {
   "cell_type": "code",
   "execution_count": 43,
   "id": "27df685a",
   "metadata": {},
   "outputs": [
    {
     "ename": "ValueError",
     "evalue": "The truth value of a Series is ambiguous. Use a.empty, a.bool(), a.item(), a.any() or a.all().",
     "output_type": "error",
     "traceback": [
      "\u001b[0;31m---------------------------------------------------------------------------\u001b[0m",
      "\u001b[0;31mValueError\u001b[0m                                Traceback (most recent call last)",
      "Input \u001b[0;32mIn [43]\u001b[0m, in \u001b[0;36m<cell line: 1>\u001b[0;34m()\u001b[0m\n\u001b[0;32m----> 1\u001b[0m \u001b[38;5;28;01mif\u001b[39;00m SSE_baseline \u001b[38;5;241m>\u001b[39m SSE:\n\u001b[1;32m      2\u001b[0m     \u001b[38;5;28mprint\u001b[39m(\u001b[38;5;124m'\u001b[39m\u001b[38;5;124mMy OSL model performs better than baseline\u001b[39m\u001b[38;5;124m'\u001b[39m)\n\u001b[1;32m      3\u001b[0m \u001b[38;5;28;01melse\u001b[39;00m:\n",
      "File \u001b[0;32m/opt/homebrew/anaconda3/lib/python3.9/site-packages/pandas/core/generic.py:1527\u001b[0m, in \u001b[0;36mNDFrame.__nonzero__\u001b[0;34m(self)\u001b[0m\n\u001b[1;32m   1525\u001b[0m \u001b[38;5;129m@final\u001b[39m\n\u001b[1;32m   1526\u001b[0m \u001b[38;5;28;01mdef\u001b[39;00m \u001b[38;5;21m__nonzero__\u001b[39m(\u001b[38;5;28mself\u001b[39m):\n\u001b[0;32m-> 1527\u001b[0m     \u001b[38;5;28;01mraise\u001b[39;00m \u001b[38;5;167;01mValueError\u001b[39;00m(\n\u001b[1;32m   1528\u001b[0m         \u001b[38;5;124mf\u001b[39m\u001b[38;5;124m\"\u001b[39m\u001b[38;5;124mThe truth value of a \u001b[39m\u001b[38;5;132;01m{\u001b[39;00m\u001b[38;5;28mtype\u001b[39m(\u001b[38;5;28mself\u001b[39m)\u001b[38;5;241m.\u001b[39m\u001b[38;5;18m__name__\u001b[39m\u001b[38;5;132;01m}\u001b[39;00m\u001b[38;5;124m is ambiguous. \u001b[39m\u001b[38;5;124m\"\u001b[39m\n\u001b[1;32m   1529\u001b[0m         \u001b[38;5;124m\"\u001b[39m\u001b[38;5;124mUse a.empty, a.bool(), a.item(), a.any() or a.all().\u001b[39m\u001b[38;5;124m\"\u001b[39m\n\u001b[1;32m   1530\u001b[0m     )\n",
      "\u001b[0;31mValueError\u001b[0m: The truth value of a Series is ambiguous. Use a.empty, a.bool(), a.item(), a.any() or a.all()."
     ]
    }
   ],
   "source": [
    "if SSE_baseline > SSE:\n",
    "    print('My OSL model performs better than baseline')\n",
    "else:\n",
    "    print('My OSL model performs worse than baseline')"
   ]
  },
  {
   "cell_type": "markdown",
   "id": "0c52f569",
   "metadata": {},
   "source": [
    "7. What is the amount of variance explained in your model?"
   ]
  },
  {
   "cell_type": "code",
   "execution_count": 38,
   "id": "578f0697",
   "metadata": {},
   "outputs": [
    {
     "name": "stdout",
     "output_type": "stream",
     "text": [
      "ESS =  6.360435492045919e+16\n",
      "SSE =  1.327612516455431e+17\n",
      "TSS =  1.963656065660023e+17\n"
     ]
    }
   ],
   "source": [
    "SSE = df_eval[df_eval.metric=='SSE']['model_error']\n",
    "TSS = ESS + SSE\n",
    "print(\"ESS = \", ESS)\n",
    "print(\"SSE = \", SSE[0])\n",
    "print(\"TSS = \", TSS[0])\n"
   ]
  },
  {
   "cell_type": "code",
   "execution_count": 39,
   "id": "e8b8a31e",
   "metadata": {},
   "outputs": [],
   "source": [
    "# add the ESS, SSE, TSS from the model to a dataframe\n",
    "ss = pd.DataFrame(np.array(['SSE','ESS','TSS']), columns=['metric'])\n",
    "ss['model_values'] = np.array([SSE[0], ESS, TSS[0]])\n",
    "\n",
    "# compute and add the baseline values to the dataframe\n",
    "ESS_baseline = sum((df1.baseline - df1.Total_Home_Value.mean())**2)\n",
    "SSE_baseline = df_baseline_eval[df_baseline_eval.metric=='SSE_baseline']['model_error'][0]\n",
    "TSS_baseline = ESS_baseline + SSE_baseline\n"
   ]
  },
  {
   "cell_type": "code",
   "execution_count": 40,
   "id": "2ee1922c",
   "metadata": {},
   "outputs": [
    {
     "data": {
      "text/html": [
       "<div>\n",
       "<style scoped>\n",
       "    .dataframe tbody tr th:only-of-type {\n",
       "        vertical-align: middle;\n",
       "    }\n",
       "\n",
       "    .dataframe tbody tr th {\n",
       "        vertical-align: top;\n",
       "    }\n",
       "\n",
       "    .dataframe thead th {\n",
       "        text-align: right;\n",
       "    }\n",
       "</style>\n",
       "<table border=\"1\" class=\"dataframe\">\n",
       "  <thead>\n",
       "    <tr style=\"text-align: right;\">\n",
       "      <th></th>\n",
       "      <th>metric</th>\n",
       "      <th>model_values</th>\n",
       "    </tr>\n",
       "  </thead>\n",
       "  <tbody>\n",
       "    <tr>\n",
       "      <th>0</th>\n",
       "      <td>SSE</td>\n",
       "      <td>1.963656e+17</td>\n",
       "    </tr>\n",
       "    <tr>\n",
       "      <th>1</th>\n",
       "      <td>ESS</td>\n",
       "      <td>0.000000e+00</td>\n",
       "    </tr>\n",
       "    <tr>\n",
       "      <th>2</th>\n",
       "      <td>TSS</td>\n",
       "      <td>1.963656e+17</td>\n",
       "    </tr>\n",
       "  </tbody>\n",
       "</table>\n",
       "</div>"
      ],
      "text/plain": [
       "  metric  model_values\n",
       "0    SSE  1.963656e+17\n",
       "1    ESS  0.000000e+00\n",
       "2    TSS  1.963656e+17"
      ]
     },
     "execution_count": 40,
     "metadata": {},
     "output_type": "execute_result"
    }
   ],
   "source": [
    "ss['model_values'] = np.array([SSE_baseline, ESS_baseline, TSS_baseline])\n",
    "\n",
    "ss\n"
   ]
  },
  {
   "cell_type": "code",
   "execution_count": 41,
   "id": "716bf3f5",
   "metadata": {},
   "outputs": [
    {
     "name": "stdout",
     "output_type": "stream",
     "text": [
      "R-squared =  0    0.324\n",
      "Name: model_error, dtype: float64\n",
      "Percent of variance in y explained by x =  0    32.4\n",
      "Name: model_error, dtype: float64 %\n"
     ]
    }
   ],
   "source": [
    "R2 = ESS/TSS\n",
    "print('R-squared = ',round(R2,3))\n",
    "print(\"Percent of variance in y explained by x = \", round(R2*100,1), \"%\")\n"
   ]
  },
  {
   "cell_type": "code",
   "execution_count": 42,
   "id": "b368fe66",
   "metadata": {},
   "outputs": [
    {
     "name": "stdout",
     "output_type": "stream",
     "text": [
      "Explained Variance =  0.324\n"
     ]
    }
   ],
   "source": [
    "evs = explained_variance_score(df1.Total_Home_Value, df1.yhat)\n",
    "print('Explained Variance = ', round(evs,3))\n"
   ]
  },
  {
   "cell_type": "markdown",
   "id": "a0f5457b",
   "metadata": {},
   "source": [
    "8. Is your model better than the baseline model?"
   ]
  },
  {
   "cell_type": "markdown",
   "id": "bba8357f",
   "metadata": {},
   "source": [
    "9. Create a file named evaluate.py that contains the following functions.\n",
    "\n",
    "plot_residuals(y, yhat): creates a residual plot\n",
    "regression_errors(y, yhat): returns the following values:\n",
    "sum of squared errors (SSE)\n",
    "explained sum of squares (ESS)\n",
    "total sum of squares (TSS)\n",
    "mean squared error (MSE)\n",
    "root mean squared error (RMSE)\n",
    "baseline_mean_errors(y): computes the SSE, MSE, and RMSE for the baseline model\n",
    "better_than_baseline(y, yhat): returns true if your model performs better than the baseline, otherwise false"
   ]
  },
  {
   "cell_type": "code",
   "execution_count": 44,
   "id": "34f107b6",
   "metadata": {},
   "outputs": [],
   "source": [
    "df=pd.read_csv('clean_zillow.csv')"
   ]
  },
  {
   "cell_type": "code",
   "execution_count": 45,
   "id": "393a80ec",
   "metadata": {},
   "outputs": [
    {
     "data": {
      "text/html": [
       "<div>\n",
       "<style scoped>\n",
       "    .dataframe tbody tr th:only-of-type {\n",
       "        vertical-align: middle;\n",
       "    }\n",
       "\n",
       "    .dataframe tbody tr th {\n",
       "        vertical-align: top;\n",
       "    }\n",
       "\n",
       "    .dataframe thead th {\n",
       "        text-align: right;\n",
       "    }\n",
       "</style>\n",
       "<table border=\"1\" class=\"dataframe\">\n",
       "  <thead>\n",
       "    <tr style=\"text-align: right;\">\n",
       "      <th></th>\n",
       "      <th>Unnamed: 0</th>\n",
       "      <th>Bedrooms</th>\n",
       "      <th>Bathrooms</th>\n",
       "      <th>Square_Feet</th>\n",
       "      <th>Total_Home_Value</th>\n",
       "      <th>Year_Built</th>\n",
       "      <th>Taxes</th>\n",
       "      <th>Region</th>\n",
       "      <th>Age</th>\n",
       "    </tr>\n",
       "  </thead>\n",
       "  <tbody>\n",
       "    <tr>\n",
       "      <th>0</th>\n",
       "      <td>4</td>\n",
       "      <td>4.0</td>\n",
       "      <td>2.0</td>\n",
       "      <td>3633.0</td>\n",
       "      <td>296425.0</td>\n",
       "      <td>2005.0</td>\n",
       "      <td>6941.39</td>\n",
       "      <td>6037.0</td>\n",
       "      <td>12.0</td>\n",
       "    </tr>\n",
       "    <tr>\n",
       "      <th>1</th>\n",
       "      <td>6</td>\n",
       "      <td>3.0</td>\n",
       "      <td>4.0</td>\n",
       "      <td>1620.0</td>\n",
       "      <td>847770.0</td>\n",
       "      <td>2011.0</td>\n",
       "      <td>10244.94</td>\n",
       "      <td>6037.0</td>\n",
       "      <td>6.0</td>\n",
       "    </tr>\n",
       "    <tr>\n",
       "      <th>2</th>\n",
       "      <td>7</td>\n",
       "      <td>3.0</td>\n",
       "      <td>2.0</td>\n",
       "      <td>2077.0</td>\n",
       "      <td>646760.0</td>\n",
       "      <td>1926.0</td>\n",
       "      <td>7924.68</td>\n",
       "      <td>6037.0</td>\n",
       "      <td>91.0</td>\n",
       "    </tr>\n",
       "    <tr>\n",
       "      <th>3</th>\n",
       "      <td>11</td>\n",
       "      <td>0.0</td>\n",
       "      <td>0.0</td>\n",
       "      <td>1200.0</td>\n",
       "      <td>5328.0</td>\n",
       "      <td>1972.0</td>\n",
       "      <td>91.60</td>\n",
       "      <td>6037.0</td>\n",
       "      <td>45.0</td>\n",
       "    </tr>\n",
       "    <tr>\n",
       "      <th>4</th>\n",
       "      <td>14</td>\n",
       "      <td>0.0</td>\n",
       "      <td>0.0</td>\n",
       "      <td>171.0</td>\n",
       "      <td>6920.0</td>\n",
       "      <td>1973.0</td>\n",
       "      <td>255.17</td>\n",
       "      <td>6037.0</td>\n",
       "      <td>44.0</td>\n",
       "    </tr>\n",
       "  </tbody>\n",
       "</table>\n",
       "</div>"
      ],
      "text/plain": [
       "   Unnamed: 0  Bedrooms  Bathrooms  Square_Feet  Total_Home_Value  Year_Built  \\\n",
       "0           4       4.0        2.0       3633.0          296425.0      2005.0   \n",
       "1           6       3.0        4.0       1620.0          847770.0      2011.0   \n",
       "2           7       3.0        2.0       2077.0          646760.0      1926.0   \n",
       "3          11       0.0        0.0       1200.0            5328.0      1972.0   \n",
       "4          14       0.0        0.0        171.0            6920.0      1973.0   \n",
       "\n",
       "      Taxes  Region   Age  \n",
       "0   6941.39  6037.0  12.0  \n",
       "1  10244.94  6037.0   6.0  \n",
       "2   7924.68  6037.0  91.0  \n",
       "3     91.60  6037.0  45.0  \n",
       "4    255.17  6037.0  44.0  "
      ]
     },
     "execution_count": 45,
     "metadata": {},
     "output_type": "execute_result"
    }
   ],
   "source": [
    "df.head()"
   ]
  },
  {
   "cell_type": "code",
   "execution_count": null,
   "id": "c2caa023",
   "metadata": {},
   "outputs": [],
   "source": []
  }
 ],
 "metadata": {
  "kernelspec": {
   "display_name": "Python 3 (ipykernel)",
   "language": "python",
   "name": "python3"
  },
  "language_info": {
   "codemirror_mode": {
    "name": "ipython",
    "version": 3
   },
   "file_extension": ".py",
   "mimetype": "text/x-python",
   "name": "python",
   "nbconvert_exporter": "python",
   "pygments_lexer": "ipython3",
   "version": "3.9.12"
  }
 },
 "nbformat": 4,
 "nbformat_minor": 5
}
