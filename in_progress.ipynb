{
 "cells": [
  {
   "cell_type": "code",
   "execution_count": null,
   "id": "45bf9b4a",
   "metadata": {},
   "outputs": [],
   "source": [
    ".isnull().sum()"
   ]
  },
  {
   "cell_type": "code",
   "execution_count": null,
   "id": "6a467d3c",
   "metadata": {},
   "outputs": [],
   "source": [
    ".describe()"
   ]
  },
  {
   "cell_type": "code",
   "execution_count": null,
   "id": "01f38891",
   "metadata": {},
   "outputs": [],
   "source": [
    ".dropna()"
   ]
  },
  {
   "cell_type": "code",
   "execution_count": null,
   "id": "955f3321",
   "metadata": {},
   "outputs": [],
   "source": [
    "# Replace a whitespace sequence or empty with a NaN value and reassign this manipulation to df.\n",
    ".replace(r'^\\s*$', np.nan, regex=True)"
   ]
  },
  {
   "cell_type": "code",
   "execution_count": null,
   "id": "c2656598",
   "metadata": {},
   "outputs": [],
   "source": [
    "actually tell what your function is doing"
   ]
  },
  {
   "cell_type": "code",
   "execution_count": null,
   "id": "18c2966a",
   "metadata": {},
   "outputs": [],
   "source": [
    "#EXPLORE before prep\n",
    "#view the 1st 5 observations\n",
    "#df.head()\n",
    "\n",
    "#view # of columns and rows\n",
    "#df.shape\n",
    "\n",
    "#view spread of data T=transpose\n",
    "#df.describe()\n",
    "#df.describe().T\n",
    "\n",
    "#view info, rows, columns, dtype, counts of data\n",
    "#df.info(show_counts=True)\n",
    "\n",
    "# view null counts\n",
    "#df.isnull().sum()\n",
    "\n",
    "#view column names with null values True/False\n",
    "#df.columns[df.isnull().any()]"
   ]
  },
  {
   "cell_type": "code",
   "execution_count": null,
   "id": "a0332be4",
   "metadata": {},
   "outputs": [],
   "source": []
  },
  {
   "cell_type": "code",
   "execution_count": null,
   "id": "d72d3c75",
   "metadata": {},
   "outputs": [],
   "source": [
    "def prep_zillow_data(df):\n",
    "    # Drop duplicate columns\n",
    "    #df.drop(columns=['column1', 'column2'], inplace=True)\n",
    "    \n",
    "    # Replace a whitespace sequence or empty with a NaN value and reassign this manipulation to df.\n",
    "    #df = df.replace(r'^\\s*$', np.nan, regex=True)\n",
    "\n",
    "    # Drop all rows with any Null values, assign to df, and verify with df.info().\n",
    "    df = df.dropna()\n",
    "    \n",
    "   \n",
    "    # Drop null values in column stored as whitespace    \n",
    "    #df['column'] = df['coulumn'].str.strip()\n",
    "    #df = df[df.column != '']\n",
    "    \n",
    "    # Convert to correct datatype\n",
    "    #df['column'] = df.column.astype(float)\n",
    "    \n",
    "    # Convert binary categorical variables to numeric\n",
    "    df['column1_encoded'] = df.column1.map({'Female': 1, 'Male': 0})\n",
    "    df['column2-encoded'] = df.column2.map({'Yes': 1, 'No': 0})\n",
    "    \n",
    "    # Get dummies for non-binary categorical variables\n",
    "    dummy1_df = pd.get_dummies(df[['multiple_lines', \\\n",
    "                              'online_security', \\\n",
    "                              'online_backup', \\\n",
    "                              'device_protection', \\\n",
    "                              'streaming_tv', \\\n",
    "                              'streaming_movies', \\\n",
    "                              'internet_service_type'\n",
    "                              ]], dummy_na=False, \\\n",
    "                              drop_first=True)\n",
    "    \n",
    "    \n",
    "    dummy2_df = pd.get_dummies(df[['tech_support','payment_type', 'contract_type']],\\\n",
    "                               dummy_na=False, drop_first=False)\n",
    "    \n",
    "    \n",
    "    # Concatenate dummy dataframe to original \n",
    "    df = pd.concat([df, dummy1_df, dummy2_df], axis=1)\n",
    "    \n",
    "    # split the data\n",
    "    train, validate, test = split_telco_data(df)\n",
    "    \n",
    "    return train, validate, test"
   ]
  },
  {
   "cell_type": "code",
   "execution_count": null,
   "id": "8fe3109b",
   "metadata": {},
   "outputs": [],
   "source": [
    "def prep_zillow_data(df):\n",
    "    \n",
    "    # Drop null values stored as whitespace    \n",
    "    df['total_charges'] = df['total_charges'].str.strip()\n",
    "    df = df[df.total_charges != '']\n",
    "    \n",
    "    # Convert to correct datatype\n",
    "    df['total_charges'] = df.total_charges.astype(float)\n",
    "    \n",
    "    # Convert binary categorical variables to numeric\n",
    "    df['gender_encoded'] = df.gender.map({'Female': 1, 'Male': 0})\n",
    "    df['partner_encoded'] = df.partner.map({'Yes': 1, 'No': 0})\n",
    "    df['dependents_encoded'] = df.dependents.map({'Yes': 1, 'No': 0})\n",
    "    df['phone_service_encoded'] = df.phone_service.map({'Yes': 1, 'No': 0})\n",
    "    df['paperless_billing_encoded'] = df.paperless_billing.map({'Yes': 1, 'No': 0})\n",
    "    df['churn_encoded'] = df.churn.map({'Yes': 1, 'No':0})\n",
    "    # Get dummies for non-binary categorical variables\n",
    "    dummy1_df = pd.get_dummies(df[['multiple_lines', \\\n",
    "                              'online_security', \\\n",
    "                              'online_backup', \\\n",
    "                              'device_protection', \\\n",
    "                              'streaming_tv', \\\n",
    "                              'streaming_movies', \\\n",
    "                              'internet_service_type'\n",
    "                              ]], dummy_na=False, \\\n",
    "                              drop_first=True)\n",
    "    \n",
    "    \n",
    "    dummy2_df = pd.get_dummies(df[['tech_support','payment_type', 'contract_type']], dummy_na=False, drop_first=False)\n",
    "    \n",
    "    #You may want to fill your missing values with a value instead of dropping the rows. One way to do this is to apply the .fillna() method to your dataframe.\n",
    "#Default arguments for value and method parameters.\n",
    "#df.fillna(value=None, method=None)\n",
    "\n",
    "    # Concatenate dummy dataframe to original \n",
    "    df = pd.concat([df, dummy1_df, dummy2_df], axis=1)\n",
    "    \n",
    "    # split the data\n",
    "    train, validate, test = split_telco_data(df)\n",
    "    \n",
    "    return train, validate, test"
   ]
  },
  {
   "cell_type": "code",
   "execution_count": null,
   "id": "80fca54f",
   "metadata": {},
   "outputs": [],
   "source": [
    "def wrangle_zillow():\n",
    "#\n",
    "#'''This function acquires, preps, and splits the zillow data'''\n",
    "#df = get_zillow_data()\n",
    "#df = prep_zillow_data(df)\n",
    "#train, validate, test = split_zillow_data(df)\n",
    "#return train, validate, test ###"
   ]
  }
 ],
 "metadata": {
  "kernelspec": {
   "display_name": "Python 3 (ipykernel)",
   "language": "python",
   "name": "python3"
  },
  "language_info": {
   "codemirror_mode": {
    "name": "ipython",
    "version": 3
   },
   "file_extension": ".py",
   "mimetype": "text/x-python",
   "name": "python",
   "nbconvert_exporter": "python",
   "pygments_lexer": "ipython3",
   "version": "3.9.12"
  }
 },
 "nbformat": 4,
 "nbformat_minor": 5
}
