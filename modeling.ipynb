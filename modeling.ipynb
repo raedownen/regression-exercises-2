{
 "cells": [
  {
   "cell_type": "raw",
   "id": "f2066c3f",
   "metadata": {},
   "source": [
    "Select a dataset with a continuous target variable.\n",
    "\n",
    "Be sure your data is prepared (no missing values, numeric datatypes) and split into samples.\n",
    "\n",
    "Work through all of the steps outlined in the lesson, from setting the baseline to selected a model and evaluating the final model on your test data."
   ]
  },
  {
   "cell_type": "code",
   "execution_count": 1,
   "id": "81c89466",
   "metadata": {},
   "outputs": [],
   "source": [
    "from sklearn.model_selection import train_test_split\n",
    "import numpy as np\n",
    "import pandas as pd\n",
    "import seaborn as sns\n",
    "import wrangle\n",
    "from sklearn.feature_selection import SelectKBest, RFE, f_regression, SequentialFeatureSelector\n",
    "from sklearn.linear_model import LinearRegression\n",
    "%matplotlib inline\n",
    "import matplotlib.pyplot as plt\n",
    "import pydataset\n",
    "from sklearn.neighbors import KNeighborsClassifier\n",
    "from sklearn.preprocessing import MinMaxScaler, StandardScaler, RobustScaler, QuantileTransformer\n",
    "from sklearn.metrics import mean_squared_error"
   ]
  },
  {
   "cell_type": "code",
   "execution_count": 2,
   "id": "089a1936",
   "metadata": {},
   "outputs": [],
   "source": [
    "df = pydataset.data('swiss')"
   ]
  },
  {
   "cell_type": "code",
   "execution_count": 3,
   "id": "ed4ecb4b",
   "metadata": {},
   "outputs": [
    {
     "data": {
      "text/html": [
       "<div>\n",
       "<style scoped>\n",
       "    .dataframe tbody tr th:only-of-type {\n",
       "        vertical-align: middle;\n",
       "    }\n",
       "\n",
       "    .dataframe tbody tr th {\n",
       "        vertical-align: top;\n",
       "    }\n",
       "\n",
       "    .dataframe thead th {\n",
       "        text-align: right;\n",
       "    }\n",
       "</style>\n",
       "<table border=\"1\" class=\"dataframe\">\n",
       "  <thead>\n",
       "    <tr style=\"text-align: right;\">\n",
       "      <th></th>\n",
       "      <th>Fertility</th>\n",
       "      <th>Agriculture</th>\n",
       "      <th>Examination</th>\n",
       "      <th>Education</th>\n",
       "      <th>Catholic</th>\n",
       "      <th>Infant.Mortality</th>\n",
       "    </tr>\n",
       "  </thead>\n",
       "  <tbody>\n",
       "    <tr>\n",
       "      <th>Courtelary</th>\n",
       "      <td>80.2</td>\n",
       "      <td>17.0</td>\n",
       "      <td>15</td>\n",
       "      <td>12</td>\n",
       "      <td>9.96</td>\n",
       "      <td>22.2</td>\n",
       "    </tr>\n",
       "    <tr>\n",
       "      <th>Delemont</th>\n",
       "      <td>83.1</td>\n",
       "      <td>45.1</td>\n",
       "      <td>6</td>\n",
       "      <td>9</td>\n",
       "      <td>84.84</td>\n",
       "      <td>22.2</td>\n",
       "    </tr>\n",
       "    <tr>\n",
       "      <th>Franches-Mnt</th>\n",
       "      <td>92.5</td>\n",
       "      <td>39.7</td>\n",
       "      <td>5</td>\n",
       "      <td>5</td>\n",
       "      <td>93.40</td>\n",
       "      <td>20.2</td>\n",
       "    </tr>\n",
       "    <tr>\n",
       "      <th>Moutier</th>\n",
       "      <td>85.8</td>\n",
       "      <td>36.5</td>\n",
       "      <td>12</td>\n",
       "      <td>7</td>\n",
       "      <td>33.77</td>\n",
       "      <td>20.3</td>\n",
       "    </tr>\n",
       "    <tr>\n",
       "      <th>Neuveville</th>\n",
       "      <td>76.9</td>\n",
       "      <td>43.5</td>\n",
       "      <td>17</td>\n",
       "      <td>15</td>\n",
       "      <td>5.16</td>\n",
       "      <td>20.6</td>\n",
       "    </tr>\n",
       "  </tbody>\n",
       "</table>\n",
       "</div>"
      ],
      "text/plain": [
       "              Fertility  Agriculture  Examination  Education  Catholic  \\\n",
       "Courtelary         80.2         17.0           15         12      9.96   \n",
       "Delemont           83.1         45.1            6          9     84.84   \n",
       "Franches-Mnt       92.5         39.7            5          5     93.40   \n",
       "Moutier            85.8         36.5           12          7     33.77   \n",
       "Neuveville         76.9         43.5           17         15      5.16   \n",
       "\n",
       "              Infant.Mortality  \n",
       "Courtelary                22.2  \n",
       "Delemont                  22.2  \n",
       "Franches-Mnt              20.2  \n",
       "Moutier                   20.3  \n",
       "Neuveville                20.6  "
      ]
     },
     "execution_count": 3,
     "metadata": {},
     "output_type": "execute_result"
    }
   ],
   "source": [
    "df.head()"
   ]
  },
  {
   "cell_type": "code",
   "execution_count": 4,
   "id": "344779ef",
   "metadata": {},
   "outputs": [
    {
     "name": "stdout",
     "output_type": "stream",
     "text": [
      "<class 'pandas.core.frame.DataFrame'>\n",
      "Index: 47 entries, Courtelary to Rive Gauche\n",
      "Data columns (total 6 columns):\n",
      " #   Column            Non-Null Count  Dtype  \n",
      "---  ------            --------------  -----  \n",
      " 0   Fertility         47 non-null     float64\n",
      " 1   Agriculture       47 non-null     float64\n",
      " 2   Examination       47 non-null     int64  \n",
      " 3   Education         47 non-null     int64  \n",
      " 4   Catholic          47 non-null     float64\n",
      " 5   Infant.Mortality  47 non-null     float64\n",
      "dtypes: float64(4), int64(2)\n",
      "memory usage: 2.6+ KB\n"
     ]
    }
   ],
   "source": [
    "df.info()"
   ]
  },
  {
   "cell_type": "code",
   "execution_count": 5,
   "id": "35614328",
   "metadata": {},
   "outputs": [],
   "source": [
    "df=df.rename(columns={\"Infant.Mortality\":\"Infant_Mortality\"})"
   ]
  },
  {
   "cell_type": "code",
   "execution_count": 6,
   "id": "74c0539b",
   "metadata": {},
   "outputs": [],
   "source": [
    "def split_data(df):\n",
    "    '''\n",
    "    take in a DataFrame and return train, validate, and test DataFrames.\n",
    "    return train, validate, test DataFrames.\n",
    "    '''\n",
    "    \n",
    "    train_validate, test = train_test_split(df, test_size=.2, random_state=123)\n",
    "    \n",
    "    train, validate = train_test_split(train_validate, \n",
    "                                       test_size=.3, \n",
    "                                       random_state=123)\n",
    "    return train, validate, test"
   ]
  },
  {
   "cell_type": "code",
   "execution_count": 7,
   "id": "a017921b",
   "metadata": {},
   "outputs": [],
   "source": [
    "train, validate, test = split_data(df)"
   ]
  },
  {
   "cell_type": "code",
   "execution_count": 8,
   "id": "91ae3e81",
   "metadata": {},
   "outputs": [],
   "source": [
    "df=train"
   ]
  },
  {
   "cell_type": "code",
   "execution_count": 9,
   "id": "10911fa2",
   "metadata": {},
   "outputs": [
    {
     "name": "stdout",
     "output_type": "stream",
     "text": [
      "<class 'pandas.core.frame.DataFrame'>\n",
      "Index: 25 entries, Rolle to Avenches\n",
      "Data columns (total 6 columns):\n",
      " #   Column            Non-Null Count  Dtype  \n",
      "---  ------            --------------  -----  \n",
      " 0   Fertility         25 non-null     float64\n",
      " 1   Agriculture       25 non-null     float64\n",
      " 2   Examination       25 non-null     int64  \n",
      " 3   Education         25 non-null     int64  \n",
      " 4   Catholic          25 non-null     float64\n",
      " 5   Infant_Mortality  25 non-null     float64\n",
      "dtypes: float64(4), int64(2)\n",
      "memory usage: 1.4+ KB\n"
     ]
    }
   ],
   "source": [
    "df.info()"
   ]
  },
  {
   "cell_type": "code",
   "execution_count": 10,
   "id": "ad594412",
   "metadata": {},
   "outputs": [],
   "source": [
    "train_scaled = train.copy()"
   ]
  },
  {
   "cell_type": "code",
   "execution_count": 11,
   "id": "fe99c6cf",
   "metadata": {},
   "outputs": [],
   "source": [
    "validate_scaled = validate.copy()"
   ]
  },
  {
   "cell_type": "code",
   "execution_count": 12,
   "id": "2cfb441e",
   "metadata": {},
   "outputs": [],
   "source": [
    "test_scaled = test.copy()"
   ]
  },
  {
   "cell_type": "code",
   "execution_count": 13,
   "id": "06851787",
   "metadata": {},
   "outputs": [
    {
     "data": {
      "text/plain": [
       "Index(['Fertility', 'Agriculture', 'Examination', 'Education', 'Catholic',\n",
       "       'Infant_Mortality'],\n",
       "      dtype='object')"
      ]
     },
     "execution_count": 13,
     "metadata": {},
     "output_type": "execute_result"
    }
   ],
   "source": [
    "train_scaled.columns"
   ]
  },
  {
   "cell_type": "code",
   "execution_count": 14,
   "id": "ca97bb7e",
   "metadata": {},
   "outputs": [],
   "source": [
    "# make, fit, use:\n",
    "columns_to_scale = ['Agriculture', 'Examination', 'Education', 'Catholic','Infant_Mortality']  \n",
    "# make the object, put it into the variable scaler\n",
    "scaler = MinMaxScaler()\n",
    "# fit the object to my data:\n",
    "train_scaled[columns_to_scale] = scaler.fit_transform(train[columns_to_scale])"
   ]
  },
  {
   "cell_type": "code",
   "execution_count": 15,
   "id": "823e1245",
   "metadata": {},
   "outputs": [],
   "source": [
    "def visualize_scaler(scaler, df, columns_to_scale):\n",
    "    fig, axs = plt.subplots(len(columns_to_scale), 2, figsize=(30, 20))\n",
    "    df_scaled = df.copy()\n",
    "    df_scaled[columns_to_scale] = scaler.fit_transform(df[columns_to_scale])\n",
    "    for (ax1, ax2), col in zip(axs, columns_to_scale):\n",
    "        ax1.hist(df[col])\n",
    "        ax1.set(title=f'{col} before scaling', xlabel=col, ylabel='count')\n",
    "        ax2.hist(df_scaled[col])\n",
    "        ax2.set(title=f'{col} after scaling with {scaler.__class__.__name__}', xlabel=col, ylabel='count')\n",
    "    plt.tight_layout()\n",
    "#    return fig, axs"
   ]
  },
  {
   "cell_type": "code",
   "execution_count": 16,
   "id": "b49a78f4",
   "metadata": {},
   "outputs": [
    {
     "data": {
      "image/png": "[encoded data removed]",
      "text/plain": [
       "<Figure size 2160x1440 with 10 Axes>"
      ]
     },
     "metadata": {
      "needs_background": "light"
     },
     "output_type": "display_data"
    }
   ],
   "source": [
    "# MinMaxScaler Applied\n",
    "visualize_scaler(scaler=MinMaxScaler(), \n",
    "                 df=train, \n",
    "                 columns_to_scale=columns_to_scale)"
   ]
  },
  {
   "cell_type": "code",
   "execution_count": 17,
   "id": "8cfb8f9c",
   "metadata": {},
   "outputs": [],
   "source": [
    "X_train=train_scaled.drop(columns=['Fertility'])\n",
    "y_train=train_scaled.Fertility"
   ]
  },
  {
   "cell_type": "code",
   "execution_count": 18,
   "id": "f0cc4585",
   "metadata": {},
   "outputs": [],
   "source": [
    "X_validate=validate_scaled.drop(columns=['Fertility'])\n",
    "y_validate=validate_scaled.Fertility"
   ]
  },
  {
   "cell_type": "code",
   "execution_count": 19,
   "id": "46d863a0",
   "metadata": {},
   "outputs": [],
   "source": [
    "X_test=test_scaled.drop(columns=['Fertility'])\n",
    "y_test=test_scaled.Fertility"
   ]
  },
  {
   "cell_type": "code",
   "execution_count": 20,
   "id": "49ec4584",
   "metadata": {},
   "outputs": [],
   "source": [
    "predictions = pd.DataFrame({\n",
    "    'actual': validate.Fertility\n",
    "}) "
   ]
  },
  {
   "cell_type": "code",
   "execution_count": 21,
   "id": "145d037b",
   "metadata": {},
   "outputs": [
    {
     "data": {
      "text/html": [
       "<div>\n",
       "<style scoped>\n",
       "    .dataframe tbody tr th:only-of-type {\n",
       "        vertical-align: middle;\n",
       "    }\n",
       "\n",
       "    .dataframe tbody tr th {\n",
       "        vertical-align: top;\n",
       "    }\n",
       "\n",
       "    .dataframe thead th {\n",
       "        text-align: right;\n",
       "    }\n",
       "</style>\n",
       "<table border=\"1\" class=\"dataframe\">\n",
       "  <thead>\n",
       "    <tr style=\"text-align: right;\">\n",
       "      <th></th>\n",
       "      <th>actual</th>\n",
       "    </tr>\n",
       "  </thead>\n",
       "  <tbody>\n",
       "    <tr>\n",
       "      <th>Moudon</th>\n",
       "      <td>65.0</td>\n",
       "    </tr>\n",
       "    <tr>\n",
       "      <th>Echallens</th>\n",
       "      <td>68.3</td>\n",
       "    </tr>\n",
       "    <tr>\n",
       "      <th>Moutier</th>\n",
       "      <td>85.8</td>\n",
       "    </tr>\n",
       "    <tr>\n",
       "      <th>Morges</th>\n",
       "      <td>65.5</td>\n",
       "    </tr>\n",
       "    <tr>\n",
       "      <th>Sierre</th>\n",
       "      <td>92.2</td>\n",
       "    </tr>\n",
       "  </tbody>\n",
       "</table>\n",
       "</div>"
      ],
      "text/plain": [
       "           actual\n",
       "Moudon       65.0\n",
       "Echallens    68.3\n",
       "Moutier      85.8\n",
       "Morges       65.5\n",
       "Sierre       92.2"
      ]
     },
     "execution_count": 21,
     "metadata": {},
     "output_type": "execute_result"
    }
   ],
   "source": [
    "predictions.head()"
   ]
  },
  {
   "cell_type": "code",
   "execution_count": 22,
   "id": "265b105c",
   "metadata": {},
   "outputs": [],
   "source": [
    "# X must be 2-d\n",
    "X_train = train[['Agriculture']]\n",
    "# y can be 1-d\n",
    "y_train = train.Fertility\n",
    "\n",
    "# 1. make the thing\n",
    "lm = LinearRegression()\n",
    "# 2. fit the thing\n",
    "lm.fit(X_train, y_train)\n",
    "# 3. use the thing (make predictions)\n",
    "X_validate = validate[['Agriculture']]\n",
    "predictions['simple_lm'] = lm.predict(X_validate)"
   ]
  },
  {
   "cell_type": "code",
   "execution_count": 23,
   "id": "38116fdb",
   "metadata": {},
   "outputs": [
    {
     "data": {
      "text/html": [
       "<div>\n",
       "<style scoped>\n",
       "    .dataframe tbody tr th:only-of-type {\n",
       "        vertical-align: middle;\n",
       "    }\n",
       "\n",
       "    .dataframe tbody tr th {\n",
       "        vertical-align: top;\n",
       "    }\n",
       "\n",
       "    .dataframe thead th {\n",
       "        text-align: right;\n",
       "    }\n",
       "</style>\n",
       "<table border=\"1\" class=\"dataframe\">\n",
       "  <thead>\n",
       "    <tr style=\"text-align: right;\">\n",
       "      <th></th>\n",
       "      <th>actual</th>\n",
       "      <th>simple_lm</th>\n",
       "    </tr>\n",
       "  </thead>\n",
       "  <tbody>\n",
       "    <tr>\n",
       "      <th>Moudon</th>\n",
       "      <td>65.0</td>\n",
       "      <td>71.528282</td>\n",
       "    </tr>\n",
       "    <tr>\n",
       "      <th>Echallens</th>\n",
       "      <td>68.3</td>\n",
       "      <td>72.935217</td>\n",
       "    </tr>\n",
       "    <tr>\n",
       "      <th>Moutier</th>\n",
       "      <td>85.8</td>\n",
       "      <td>70.032911</td>\n",
       "    </tr>\n",
       "    <tr>\n",
       "      <th>Morges</th>\n",
       "      <td>65.5</td>\n",
       "      <td>71.906144</td>\n",
       "    </tr>\n",
       "    <tr>\n",
       "      <th>Sierre</th>\n",
       "      <td>92.2</td>\n",
       "      <td>73.899972</td>\n",
       "    </tr>\n",
       "  </tbody>\n",
       "</table>\n",
       "</div>"
      ],
      "text/plain": [
       "           actual  simple_lm\n",
       "Moudon       65.0  71.528282\n",
       "Echallens    68.3  72.935217\n",
       "Moutier      85.8  70.032911\n",
       "Morges       65.5  71.906144\n",
       "Sierre       92.2  73.899972"
      ]
     },
     "execution_count": 23,
     "metadata": {},
     "output_type": "execute_result"
    }
   ],
   "source": [
    "predictions.head()"
   ]
  },
  {
   "cell_type": "code",
   "execution_count": 24,
   "id": "548c88d3",
   "metadata": {},
   "outputs": [
    {
     "data": {
      "text/plain": [
       "(array([0.08039626]), 67.09844784624015)"
      ]
     },
     "execution_count": 24,
     "metadata": {},
     "output_type": "execute_result"
    }
   ],
   "source": [
    "lm.coef_, lm.intercept_"
   ]
  },
  {
   "cell_type": "code",
   "execution_count": 25,
   "id": "068ad3ed",
   "metadata": {},
   "outputs": [
    {
     "name": "stdout",
     "output_type": "stream",
     "text": [
      "Fertility = 0.08 * Agriculture + 67.10\n"
     ]
    }
   ],
   "source": [
    "print('Fertility = {:.2f} * Agriculture + {:.2f}'.format(lm.coef_[0], lm.intercept_))"
   ]
  },
  {
   "cell_type": "code",
   "execution_count": 26,
   "id": "99430cd1",
   "metadata": {},
   "outputs": [
    {
     "name": "stdout",
     "output_type": "stream",
     "text": [
      "For every 1 point increase in Agriculture, we predict a 0.08 point increase in Fertility\n"
     ]
    }
   ],
   "source": [
    "# Fertility = 0.08 * Agriculture + 67.10\n",
    "print(f'For every 1 point increase in Agriculture, we predict a {lm.coef_[0]:.2f} point increase in Fertility')"
   ]
  },
  {
   "cell_type": "code",
   "execution_count": 27,
   "id": "f80203ad",
   "metadata": {},
   "outputs": [
    {
     "data": {
      "text/plain": [
       "<matplotlib.legend.Legend at 0x14d55b940>"
      ]
     },
     "execution_count": 27,
     "metadata": {},
     "output_type": "execute_result"
    },
    {
     "data": {
      "image/png": "[encoded data removed]",
      "text/plain": [
       "<Figure size 1152x648 with 1 Axes>"
      ]
     },
     "metadata": {
      "needs_background": "light"
     },
     "output_type": "display_data"
    }
   ],
   "source": [
    "x_pred = np.array([-25, 100]).reshape(-1, 1)\n",
    "y_pred = lm.predict(x_pred)\n",
    "\n",
    "plt.figure(figsize=(16, 9))\n",
    "plt.scatter(train.Agriculture, train.Fertility, label='actual')\n",
    "plt.scatter(train.Agriculture, lm.predict(train[['Agriculture']]), label='simple_lm')\n",
    "plt.plot(x_pred, y_pred, ls='--', c='black', label='linear model prediction line')\n",
    "plt.hlines(0, -25, 100, ls=':', color='grey')\n",
    "plt.vlines(0, -10, 100, ls=':', color='grey')\n",
    "\n",
    "plt.xlabel('Agriculture')\n",
    "plt.ylabel('Fertility')\n",
    "plt.legend()"
   ]
  },
  {
   "cell_type": "code",
   "execution_count": 28,
   "id": "0967ac3e",
   "metadata": {},
   "outputs": [
    {
     "data": {
      "text/html": [
       "<div>\n",
       "<style scoped>\n",
       "    .dataframe tbody tr th:only-of-type {\n",
       "        vertical-align: middle;\n",
       "    }\n",
       "\n",
       "    .dataframe tbody tr th {\n",
       "        vertical-align: top;\n",
       "    }\n",
       "\n",
       "    .dataframe thead th {\n",
       "        text-align: right;\n",
       "    }\n",
       "</style>\n",
       "<table border=\"1\" class=\"dataframe\">\n",
       "  <thead>\n",
       "    <tr style=\"text-align: right;\">\n",
       "      <th></th>\n",
       "      <th>Agriculture</th>\n",
       "      <th>predicted_fertility</th>\n",
       "    </tr>\n",
       "  </thead>\n",
       "  <tbody>\n",
       "    <tr>\n",
       "      <th>0</th>\n",
       "      <td>75</td>\n",
       "      <td>73.128168</td>\n",
       "    </tr>\n",
       "    <tr>\n",
       "      <th>1</th>\n",
       "      <td>76</td>\n",
       "      <td>73.208564</td>\n",
       "    </tr>\n",
       "    <tr>\n",
       "      <th>2</th>\n",
       "      <td>77</td>\n",
       "      <td>73.288960</td>\n",
       "    </tr>\n",
       "    <tr>\n",
       "      <th>3</th>\n",
       "      <td>78</td>\n",
       "      <td>73.369356</td>\n",
       "    </tr>\n",
       "    <tr>\n",
       "      <th>4</th>\n",
       "      <td>79</td>\n",
       "      <td>73.449753</td>\n",
       "    </tr>\n",
       "    <tr>\n",
       "      <th>5</th>\n",
       "      <td>80</td>\n",
       "      <td>73.530149</td>\n",
       "    </tr>\n",
       "    <tr>\n",
       "      <th>6</th>\n",
       "      <td>81</td>\n",
       "      <td>73.610545</td>\n",
       "    </tr>\n",
       "    <tr>\n",
       "      <th>7</th>\n",
       "      <td>82</td>\n",
       "      <td>73.690941</td>\n",
       "    </tr>\n",
       "    <tr>\n",
       "      <th>8</th>\n",
       "      <td>83</td>\n",
       "      <td>73.771338</td>\n",
       "    </tr>\n",
       "    <tr>\n",
       "      <th>9</th>\n",
       "      <td>84</td>\n",
       "      <td>73.851734</td>\n",
       "    </tr>\n",
       "  </tbody>\n",
       "</table>\n",
       "</div>"
      ],
      "text/plain": [
       "   Agriculture  predicted_fertility\n",
       "0           75            73.128168\n",
       "1           76            73.208564\n",
       "2           77            73.288960\n",
       "3           78            73.369356\n",
       "4           79            73.449753\n",
       "5           80            73.530149\n",
       "6           81            73.610545\n",
       "7           82            73.690941\n",
       "8           83            73.771338\n",
       "9           84            73.851734"
      ]
     },
     "execution_count": 28,
     "metadata": {},
     "output_type": "execute_result"
    }
   ],
   "source": [
    "Agriculture = np.arange(75, 85)\n",
    "Fertility = lm.predict(Agriculture.reshape(-1, 1))\n",
    "pd.DataFrame(dict(Agriculture=Agriculture, predicted_fertility=Fertility))"
   ]
  },
  {
   "cell_type": "code",
   "execution_count": 29,
   "id": "443b3794",
   "metadata": {},
   "outputs": [],
   "source": [
    "# X must be 2-d\n",
    "X_train = train[[ 'Examination']]\n",
    "# y can be 1-d\n",
    "y_train = train.Fertility\n",
    "\n",
    "# 1. make the thing\n",
    "lm = LinearRegression()\n",
    "# 2. fit the thing\n",
    "lm.fit(X_train, y_train)\n",
    "# 3. use the thing (make predictions)\n",
    "X_validate = validate[['Examination']]\n",
    "predictions['simple_lm'] = lm.predict(X_validate)"
   ]
  },
  {
   "cell_type": "code",
   "execution_count": 30,
   "id": "2b5d31d9",
   "metadata": {},
   "outputs": [
    {
     "data": {
      "text/html": [
       "<div>\n",
       "<style scoped>\n",
       "    .dataframe tbody tr th:only-of-type {\n",
       "        vertical-align: middle;\n",
       "    }\n",
       "\n",
       "    .dataframe tbody tr th {\n",
       "        vertical-align: top;\n",
       "    }\n",
       "\n",
       "    .dataframe thead th {\n",
       "        text-align: right;\n",
       "    }\n",
       "</style>\n",
       "<table border=\"1\" class=\"dataframe\">\n",
       "  <thead>\n",
       "    <tr style=\"text-align: right;\">\n",
       "      <th></th>\n",
       "      <th>actual</th>\n",
       "      <th>simple_lm</th>\n",
       "    </tr>\n",
       "  </thead>\n",
       "  <tbody>\n",
       "    <tr>\n",
       "      <th>Moudon</th>\n",
       "      <td>65.0</td>\n",
       "      <td>72.792474</td>\n",
       "    </tr>\n",
       "    <tr>\n",
       "      <th>Echallens</th>\n",
       "      <td>68.3</td>\n",
       "      <td>70.061009</td>\n",
       "    </tr>\n",
       "    <tr>\n",
       "      <th>Moutier</th>\n",
       "      <td>85.8</td>\n",
       "      <td>74.158206</td>\n",
       "    </tr>\n",
       "    <tr>\n",
       "      <th>Morges</th>\n",
       "      <td>65.5</td>\n",
       "      <td>67.329544</td>\n",
       "    </tr>\n",
       "    <tr>\n",
       "      <th>Sierre</th>\n",
       "      <td>92.2</td>\n",
       "      <td>80.304002</td>\n",
       "    </tr>\n",
       "  </tbody>\n",
       "</table>\n",
       "</div>"
      ],
      "text/plain": [
       "           actual  simple_lm\n",
       "Moudon       65.0  72.792474\n",
       "Echallens    68.3  70.061009\n",
       "Moutier      85.8  74.158206\n",
       "Morges       65.5  67.329544\n",
       "Sierre       92.2  80.304002"
      ]
     },
     "execution_count": 30,
     "metadata": {},
     "output_type": "execute_result"
    }
   ],
   "source": [
    "predictions.head()"
   ]
  },
  {
   "cell_type": "code",
   "execution_count": 31,
   "id": "e15a8883",
   "metadata": {},
   "outputs": [
    {
     "data": {
      "text/plain": [
       "(array([-0.68286618]), 82.35260032191819)"
      ]
     },
     "execution_count": 31,
     "metadata": {},
     "output_type": "execute_result"
    }
   ],
   "source": [
    "lm.coef_, lm.intercept_"
   ]
  },
  {
   "cell_type": "code",
   "execution_count": 32,
   "id": "7f46c7f0",
   "metadata": {},
   "outputs": [
    {
     "name": "stdout",
     "output_type": "stream",
     "text": [
      "Fertility = -0.68 * Examination + 82.35\n"
     ]
    }
   ],
   "source": [
    "print('Fertility = {:.2f} * Examination + {:.2f}'.format(lm.coef_[0], lm.intercept_))"
   ]
  },
  {
   "cell_type": "code",
   "execution_count": 33,
   "id": "31554fc7",
   "metadata": {},
   "outputs": [
    {
     "name": "stdout",
     "output_type": "stream",
     "text": [
      "For every 1 point increase in Examination, we predict a -0.68 point increase in Fertility\n"
     ]
    }
   ],
   "source": [
    "# Fertility = -0.68 * Examination  + 82.35\n",
    "print(f'For every 1 point increase in Examination, we predict a {lm.coef_[0]:.2f} point increase in Fertility')"
   ]
  },
  {
   "cell_type": "code",
   "execution_count": 34,
   "id": "4152c819",
   "metadata": {},
   "outputs": [
    {
     "data": {
      "text/plain": [
       "<matplotlib.legend.Legend at 0x14d5c6a90>"
      ]
     },
     "execution_count": 34,
     "metadata": {},
     "output_type": "execute_result"
    },
    {
     "data": {
      "image/png": "[encoded data removed]",
      "text/plain": [
       "<Figure size 1152x648 with 1 Axes>"
      ]
     },
     "metadata": {
      "needs_background": "light"
     },
     "output_type": "display_data"
    }
   ],
   "source": [
    "x_pred = np.array([-25, 100]).reshape(-1, 1)\n",
    "y_pred = lm.predict(x_pred)\n",
    "\n",
    "plt.figure(figsize=(16, 9))\n",
    "plt.scatter(train.Examination, train.Fertility, label='actual')\n",
    "plt.scatter(train.Examination, lm.predict(train[['Examination']]), label='simple_lm')\n",
    "plt.plot(x_pred, y_pred, ls='--', c='black', label='linear model prediction line')\n",
    "plt.hlines(0, -25, 100, ls=':', color='grey')\n",
    "plt.vlines(0, -10, 100, ls=':', color='grey')\n",
    "\n",
    "plt.xlabel('Examination')\n",
    "plt.ylabel('Fertility')\n",
    "plt.legend()"
   ]
  },
  {
   "cell_type": "code",
   "execution_count": 35,
   "id": "dd952c8d",
   "metadata": {},
   "outputs": [
    {
     "data": {
      "text/html": [
       "<div>\n",
       "<style scoped>\n",
       "    .dataframe tbody tr th:only-of-type {\n",
       "        vertical-align: middle;\n",
       "    }\n",
       "\n",
       "    .dataframe tbody tr th {\n",
       "        vertical-align: top;\n",
       "    }\n",
       "\n",
       "    .dataframe thead th {\n",
       "        text-align: right;\n",
       "    }\n",
       "</style>\n",
       "<table border=\"1\" class=\"dataframe\">\n",
       "  <thead>\n",
       "    <tr style=\"text-align: right;\">\n",
       "      <th></th>\n",
       "      <th>Examination</th>\n",
       "      <th>predicted_fertility</th>\n",
       "    </tr>\n",
       "  </thead>\n",
       "  <tbody>\n",
       "    <tr>\n",
       "      <th>0</th>\n",
       "      <td>82</td>\n",
       "      <td>26.357573</td>\n",
       "    </tr>\n",
       "    <tr>\n",
       "      <th>1</th>\n",
       "      <td>83</td>\n",
       "      <td>25.674707</td>\n",
       "    </tr>\n",
       "    <tr>\n",
       "      <th>2</th>\n",
       "      <td>84</td>\n",
       "      <td>24.991841</td>\n",
       "    </tr>\n",
       "    <tr>\n",
       "      <th>3</th>\n",
       "      <td>85</td>\n",
       "      <td>24.308975</td>\n",
       "    </tr>\n",
       "    <tr>\n",
       "      <th>4</th>\n",
       "      <td>86</td>\n",
       "      <td>23.626109</td>\n",
       "    </tr>\n",
       "  </tbody>\n",
       "</table>\n",
       "</div>"
      ],
      "text/plain": [
       "   Examination  predicted_fertility\n",
       "0           82            26.357573\n",
       "1           83            25.674707\n",
       "2           84            24.991841\n",
       "3           85            24.308975\n",
       "4           86            23.626109"
      ]
     },
     "execution_count": 35,
     "metadata": {},
     "output_type": "execute_result"
    }
   ],
   "source": [
    "Examination = np.arange(82, 87)\n",
    "Fertility = lm.predict(Examination.reshape(-1, 1))\n",
    "pd.DataFrame(dict(Examination=Examination, predicted_fertility=Fertility))"
   ]
  },
  {
   "cell_type": "code",
   "execution_count": 36,
   "id": "3c740f26",
   "metadata": {},
   "outputs": [],
   "source": [
    "# X must be 2-d\n",
    "X_train = train[['Education']]\n",
    "# y can be 1-d\n",
    "y_train = train.Fertility\n",
    "\n",
    "# 1. make the thing\n",
    "lm = LinearRegression()\n",
    "# 2. fit the thing\n",
    "lm.fit(X_train, y_train)\n",
    "# 3. use the thing (make predictions)\n",
    "X_validate = validate[['Education']]\n",
    "predictions['simple_lm'] = lm.predict(X_validate)"
   ]
  },
  {
   "cell_type": "code",
   "execution_count": 37,
   "id": "27596164",
   "metadata": {},
   "outputs": [
    {
     "data": {
      "text/html": [
       "<div>\n",
       "<style scoped>\n",
       "    .dataframe tbody tr th:only-of-type {\n",
       "        vertical-align: middle;\n",
       "    }\n",
       "\n",
       "    .dataframe tbody tr th {\n",
       "        vertical-align: top;\n",
       "    }\n",
       "\n",
       "    .dataframe thead th {\n",
       "        text-align: right;\n",
       "    }\n",
       "</style>\n",
       "<table border=\"1\" class=\"dataframe\">\n",
       "  <thead>\n",
       "    <tr style=\"text-align: right;\">\n",
       "      <th></th>\n",
       "      <th>actual</th>\n",
       "      <th>simple_lm</th>\n",
       "    </tr>\n",
       "  </thead>\n",
       "  <tbody>\n",
       "    <tr>\n",
       "      <th>Moudon</th>\n",
       "      <td>65.0</td>\n",
       "      <td>74.126028</td>\n",
       "    </tr>\n",
       "    <tr>\n",
       "      <th>Echallens</th>\n",
       "      <td>68.3</td>\n",
       "      <td>74.538453</td>\n",
       "    </tr>\n",
       "    <tr>\n",
       "      <th>Moutier</th>\n",
       "      <td>85.8</td>\n",
       "      <td>72.476329</td>\n",
       "    </tr>\n",
       "    <tr>\n",
       "      <th>Morges</th>\n",
       "      <td>65.5</td>\n",
       "      <td>71.239054</td>\n",
       "    </tr>\n",
       "    <tr>\n",
       "      <th>Sierre</th>\n",
       "      <td>92.2</td>\n",
       "      <td>74.126028</td>\n",
       "    </tr>\n",
       "  </tbody>\n",
       "</table>\n",
       "</div>"
      ],
      "text/plain": [
       "           actual  simple_lm\n",
       "Moudon       65.0  74.126028\n",
       "Echallens    68.3  74.538453\n",
       "Moutier      85.8  72.476329\n",
       "Morges       65.5  71.239054\n",
       "Sierre       92.2  74.126028"
      ]
     },
     "execution_count": 37,
     "metadata": {},
     "output_type": "execute_result"
    }
   ],
   "source": [
    "predictions.head()"
   ]
  },
  {
   "cell_type": "code",
   "execution_count": 38,
   "id": "6283c996",
   "metadata": {},
   "outputs": [
    {
     "data": {
      "text/plain": [
       "(array([-0.41242488]), 75.36330289549676)"
      ]
     },
     "execution_count": 38,
     "metadata": {},
     "output_type": "execute_result"
    }
   ],
   "source": [
    "lm.coef_, lm.intercept_"
   ]
  },
  {
   "cell_type": "code",
   "execution_count": 39,
   "id": "9c82e9db",
   "metadata": {},
   "outputs": [
    {
     "name": "stdout",
     "output_type": "stream",
     "text": [
      "Fertility = -0.41 * Education + 75.36\n"
     ]
    }
   ],
   "source": [
    "print('Fertility = {:.2f} * Education + {:.2f}'.format(lm.coef_[0], lm.intercept_))"
   ]
  },
  {
   "cell_type": "code",
   "execution_count": 40,
   "id": "d8eb0215",
   "metadata": {},
   "outputs": [
    {
     "name": "stdout",
     "output_type": "stream",
     "text": [
      "For every 1 point increase in Education, we predict a -0.41 point increase in Fertility\n"
     ]
    }
   ],
   "source": [
    "# Fertility = -0.41* Education  + 75.36\n",
    "print(f'For every 1 point increase in Education, we predict a {lm.coef_[0]:.2f} point increase in Fertility')"
   ]
  },
  {
   "cell_type": "code",
   "execution_count": 41,
   "id": "333cd74d",
   "metadata": {},
   "outputs": [
    {
     "data": {
      "text/plain": [
       "<matplotlib.legend.Legend at 0x14bc744c0>"
      ]
     },
     "execution_count": 41,
     "metadata": {},
     "output_type": "execute_result"
    },
    {
     "data": {
      "image/png": "[encoded data removed]",
      "text/plain": [
       "<Figure size 1152x648 with 1 Axes>"
      ]
     },
     "metadata": {
      "needs_background": "light"
     },
     "output_type": "display_data"
    }
   ],
   "source": [
    "x_pred = np.array([-25, 100]).reshape(-1, 1)\n",
    "y_pred = lm.predict(x_pred)\n",
    "\n",
    "plt.figure(figsize=(16, 9))\n",
    "plt.scatter(train.Education, train.Fertility, label='actual')\n",
    "plt.scatter(train.Education, lm.predict(train[['Education']]), label='simple_lm')\n",
    "plt.plot(x_pred, y_pred, ls='--', c='black', label='linear model prediction line')\n",
    "plt.hlines(0, -25, 100, ls=':', color='grey')\n",
    "plt.vlines(0, -10, 100, ls=':', color='grey')\n",
    "\n",
    "plt.xlabel('Agriculture')\n",
    "plt.ylabel('Education')\n",
    "plt.legend()"
   ]
  },
  {
   "cell_type": "code",
   "execution_count": 42,
   "id": "4b4b0acd",
   "metadata": {},
   "outputs": [
    {
     "data": {
      "text/html": [
       "<div>\n",
       "<style scoped>\n",
       "    .dataframe tbody tr th:only-of-type {\n",
       "        vertical-align: middle;\n",
       "    }\n",
       "\n",
       "    .dataframe tbody tr th {\n",
       "        vertical-align: top;\n",
       "    }\n",
       "\n",
       "    .dataframe thead th {\n",
       "        text-align: right;\n",
       "    }\n",
       "</style>\n",
       "<table border=\"1\" class=\"dataframe\">\n",
       "  <thead>\n",
       "    <tr style=\"text-align: right;\">\n",
       "      <th></th>\n",
       "      <th>Education</th>\n",
       "      <th>predicted_fertility</th>\n",
       "    </tr>\n",
       "  </thead>\n",
       "  <tbody>\n",
       "    <tr>\n",
       "      <th>0</th>\n",
       "      <td>75</td>\n",
       "      <td>44.431437</td>\n",
       "    </tr>\n",
       "    <tr>\n",
       "      <th>1</th>\n",
       "      <td>76</td>\n",
       "      <td>44.019012</td>\n",
       "    </tr>\n",
       "    <tr>\n",
       "      <th>2</th>\n",
       "      <td>77</td>\n",
       "      <td>43.606587</td>\n",
       "    </tr>\n",
       "    <tr>\n",
       "      <th>3</th>\n",
       "      <td>78</td>\n",
       "      <td>43.194162</td>\n",
       "    </tr>\n",
       "    <tr>\n",
       "      <th>4</th>\n",
       "      <td>79</td>\n",
       "      <td>42.781737</td>\n",
       "    </tr>\n",
       "    <tr>\n",
       "      <th>5</th>\n",
       "      <td>80</td>\n",
       "      <td>42.369312</td>\n",
       "    </tr>\n",
       "    <tr>\n",
       "      <th>6</th>\n",
       "      <td>81</td>\n",
       "      <td>41.956888</td>\n",
       "    </tr>\n",
       "    <tr>\n",
       "      <th>7</th>\n",
       "      <td>82</td>\n",
       "      <td>41.544463</td>\n",
       "    </tr>\n",
       "    <tr>\n",
       "      <th>8</th>\n",
       "      <td>83</td>\n",
       "      <td>41.132038</td>\n",
       "    </tr>\n",
       "    <tr>\n",
       "      <th>9</th>\n",
       "      <td>84</td>\n",
       "      <td>40.719613</td>\n",
       "    </tr>\n",
       "    <tr>\n",
       "      <th>10</th>\n",
       "      <td>85</td>\n",
       "      <td>40.307188</td>\n",
       "    </tr>\n",
       "    <tr>\n",
       "      <th>11</th>\n",
       "      <td>86</td>\n",
       "      <td>39.894763</td>\n",
       "    </tr>\n",
       "  </tbody>\n",
       "</table>\n",
       "</div>"
      ],
      "text/plain": [
       "    Education  predicted_fertility\n",
       "0          75            44.431437\n",
       "1          76            44.019012\n",
       "2          77            43.606587\n",
       "3          78            43.194162\n",
       "4          79            42.781737\n",
       "5          80            42.369312\n",
       "6          81            41.956888\n",
       "7          82            41.544463\n",
       "8          83            41.132038\n",
       "9          84            40.719613\n",
       "10         85            40.307188\n",
       "11         86            39.894763"
      ]
     },
     "execution_count": 42,
     "metadata": {},
     "output_type": "execute_result"
    }
   ],
   "source": [
    "Education = np.arange(75, 87)\n",
    "Fertility = lm.predict(Education.reshape(-1, 1))\n",
    "pd.DataFrame(dict(Education=Education, predicted_fertility=Fertility))\n"
   ]
  },
  {
   "cell_type": "code",
   "execution_count": 43,
   "id": "d488039f",
   "metadata": {},
   "outputs": [],
   "source": [
    "# X must be 2-d\n",
    "X_train = train[['Catholic']]\n",
    "# y can be 1-d\n",
    "y_train = train.Fertility\n",
    "\n",
    "# 1. make the thing\n",
    "lm = LinearRegression()\n",
    "# 2. fit the thing\n",
    "lm.fit(X_train, y_train)\n",
    "# 3. use the thing (make predictions)\n",
    "X_validate = validate[['Catholic']]\n",
    "predictions['simple_lm'] = lm.predict(X_validate)"
   ]
  },
  {
   "cell_type": "code",
   "execution_count": 44,
   "id": "8e2df893",
   "metadata": {},
   "outputs": [
    {
     "data": {
      "text/html": [
       "<div>\n",
       "<style scoped>\n",
       "    .dataframe tbody tr th:only-of-type {\n",
       "        vertical-align: middle;\n",
       "    }\n",
       "\n",
       "    .dataframe tbody tr th {\n",
       "        vertical-align: top;\n",
       "    }\n",
       "\n",
       "    .dataframe thead th {\n",
       "        text-align: right;\n",
       "    }\n",
       "</style>\n",
       "<table border=\"1\" class=\"dataframe\">\n",
       "  <thead>\n",
       "    <tr style=\"text-align: right;\">\n",
       "      <th></th>\n",
       "      <th>actual</th>\n",
       "      <th>simple_lm</th>\n",
       "    </tr>\n",
       "  </thead>\n",
       "  <tbody>\n",
       "    <tr>\n",
       "      <th>Moudon</th>\n",
       "      <td>65.0</td>\n",
       "      <td>65.837047</td>\n",
       "    </tr>\n",
       "    <tr>\n",
       "      <th>Echallens</th>\n",
       "      <td>68.3</td>\n",
       "      <td>68.722801</td>\n",
       "    </tr>\n",
       "    <tr>\n",
       "      <th>Moutier</th>\n",
       "      <td>85.8</td>\n",
       "      <td>70.126087</td>\n",
       "    </tr>\n",
       "    <tr>\n",
       "      <th>Morges</th>\n",
       "      <td>65.5</td>\n",
       "      <td>65.941157</td>\n",
       "    </tr>\n",
       "    <tr>\n",
       "      <th>Sierre</th>\n",
       "      <td>92.2</td>\n",
       "      <td>79.758462</td>\n",
       "    </tr>\n",
       "  </tbody>\n",
       "</table>\n",
       "</div>"
      ],
      "text/plain": [
       "           actual  simple_lm\n",
       "Moudon       65.0  65.837047\n",
       "Echallens    68.3  68.722801\n",
       "Moutier      85.8  70.126087\n",
       "Morges       65.5  65.941157\n",
       "Sierre       92.2  79.758462"
      ]
     },
     "execution_count": 44,
     "metadata": {},
     "output_type": "execute_result"
    }
   ],
   "source": [
    "predictions.head()"
   ]
  },
  {
   "cell_type": "code",
   "execution_count": 45,
   "id": "9a7cdd62",
   "metadata": {},
   "outputs": [
    {
     "data": {
      "text/plain": [
       "(array([0.14663382]), 65.17426247751776)"
      ]
     },
     "execution_count": 45,
     "metadata": {},
     "output_type": "execute_result"
    }
   ],
   "source": [
    "lm.coef_, lm.intercept_"
   ]
  },
  {
   "cell_type": "code",
   "execution_count": 46,
   "id": "63166810",
   "metadata": {},
   "outputs": [
    {
     "name": "stdout",
     "output_type": "stream",
     "text": [
      "Fertility = 0.15 * Catholic + 65.17\n"
     ]
    }
   ],
   "source": [
    "print('Fertility = {:.2f} * Catholic + {:.2f}'.format(lm.coef_[0], lm.intercept_))"
   ]
  },
  {
   "cell_type": "code",
   "execution_count": 47,
   "id": "f47f6817",
   "metadata": {},
   "outputs": [
    {
     "name": "stdout",
     "output_type": "stream",
     "text": [
      "For every 1 point increase in Catholic, we predict a 0.15 point increase in Fertility\n"
     ]
    }
   ],
   "source": [
    "# Fertility = 0.15 * Catholic  + 65.17\n",
    "print(f'For every 1 point increase in Catholic, we predict a {lm.coef_[0]:.2f} point increase in Fertility')"
   ]
  },
  {
   "cell_type": "code",
   "execution_count": 48,
   "id": "fd2cfafd",
   "metadata": {},
   "outputs": [
    {
     "data": {
      "text/plain": [
       "<matplotlib.legend.Legend at 0x14bc9d370>"
      ]
     },
     "execution_count": 48,
     "metadata": {},
     "output_type": "execute_result"
    },
    {
     "data": {
      "image/png": "[encoded data removed]",
      "text/plain": [
       "<Figure size 1152x648 with 1 Axes>"
      ]
     },
     "metadata": {
      "needs_background": "light"
     },
     "output_type": "display_data"
    }
   ],
   "source": [
    "x_pred = np.array([-25, 100]).reshape(-1, 1)\n",
    "y_pred = lm.predict(x_pred)\n",
    "\n",
    "plt.figure(figsize=(16, 9))\n",
    "plt.scatter(train.Catholic, train.Fertility, label='actual')\n",
    "plt.scatter(train.Catholic, lm.predict(train[['Catholic']]), label='simple_lm')\n",
    "plt.plot(x_pred, y_pred, ls='--', c='black', label='linear model prediction line')\n",
    "plt.hlines(0, -25, 100, ls=':', color='grey')\n",
    "plt.vlines(0, -10, 100, ls=':', color='grey')\n",
    "\n",
    "plt.xlabel('Catholic')\n",
    "plt.ylabel('Fertility')\n",
    "plt.legend()"
   ]
  },
  {
   "cell_type": "code",
   "execution_count": 49,
   "id": "582134ed",
   "metadata": {},
   "outputs": [
    {
     "data": {
      "text/html": [
       "<div>\n",
       "<style scoped>\n",
       "    .dataframe tbody tr th:only-of-type {\n",
       "        vertical-align: middle;\n",
       "    }\n",
       "\n",
       "    .dataframe tbody tr th {\n",
       "        vertical-align: top;\n",
       "    }\n",
       "\n",
       "    .dataframe thead th {\n",
       "        text-align: right;\n",
       "    }\n",
       "</style>\n",
       "<table border=\"1\" class=\"dataframe\">\n",
       "  <thead>\n",
       "    <tr style=\"text-align: right;\">\n",
       "      <th></th>\n",
       "      <th>Catholic</th>\n",
       "      <th>predicted_fertility</th>\n",
       "    </tr>\n",
       "  </thead>\n",
       "  <tbody>\n",
       "    <tr>\n",
       "      <th>0</th>\n",
       "      <td>75</td>\n",
       "      <td>76.171799</td>\n",
       "    </tr>\n",
       "    <tr>\n",
       "      <th>1</th>\n",
       "      <td>76</td>\n",
       "      <td>76.318433</td>\n",
       "    </tr>\n",
       "    <tr>\n",
       "      <th>2</th>\n",
       "      <td>77</td>\n",
       "      <td>76.465066</td>\n",
       "    </tr>\n",
       "    <tr>\n",
       "      <th>3</th>\n",
       "      <td>78</td>\n",
       "      <td>76.611700</td>\n",
       "    </tr>\n",
       "    <tr>\n",
       "      <th>4</th>\n",
       "      <td>79</td>\n",
       "      <td>76.758334</td>\n",
       "    </tr>\n",
       "    <tr>\n",
       "      <th>5</th>\n",
       "      <td>80</td>\n",
       "      <td>76.904968</td>\n",
       "    </tr>\n",
       "    <tr>\n",
       "      <th>6</th>\n",
       "      <td>81</td>\n",
       "      <td>77.051602</td>\n",
       "    </tr>\n",
       "    <tr>\n",
       "      <th>7</th>\n",
       "      <td>82</td>\n",
       "      <td>77.198236</td>\n",
       "    </tr>\n",
       "    <tr>\n",
       "      <th>8</th>\n",
       "      <td>83</td>\n",
       "      <td>77.344869</td>\n",
       "    </tr>\n",
       "    <tr>\n",
       "      <th>9</th>\n",
       "      <td>84</td>\n",
       "      <td>77.491503</td>\n",
       "    </tr>\n",
       "    <tr>\n",
       "      <th>10</th>\n",
       "      <td>85</td>\n",
       "      <td>77.638137</td>\n",
       "    </tr>\n",
       "    <tr>\n",
       "      <th>11</th>\n",
       "      <td>86</td>\n",
       "      <td>77.784771</td>\n",
       "    </tr>\n",
       "  </tbody>\n",
       "</table>\n",
       "</div>"
      ],
      "text/plain": [
       "    Catholic  predicted_fertility\n",
       "0         75            76.171799\n",
       "1         76            76.318433\n",
       "2         77            76.465066\n",
       "3         78            76.611700\n",
       "4         79            76.758334\n",
       "5         80            76.904968\n",
       "6         81            77.051602\n",
       "7         82            77.198236\n",
       "8         83            77.344869\n",
       "9         84            77.491503\n",
       "10        85            77.638137\n",
       "11        86            77.784771"
      ]
     },
     "execution_count": 49,
     "metadata": {},
     "output_type": "execute_result"
    }
   ],
   "source": [
    "Catholic = np.arange(75, 87)\n",
    "Fertility = lm.predict(Catholic.reshape(-1, 1))\n",
    "pd.DataFrame(dict(Catholic=Catholic, predicted_fertility=Fertility))"
   ]
  },
  {
   "cell_type": "code",
   "execution_count": 50,
   "id": "df8f333a",
   "metadata": {},
   "outputs": [],
   "source": [
    "# X must be 2-d\n",
    "X_train = train[['Infant_Mortality']]\n",
    "# y can be 1-d\n",
    "y_train = train.Fertility\n",
    "\n",
    "# 1. make the thing\n",
    "lm = LinearRegression()\n",
    "# 2. fit the thing\n",
    "lm.fit(X_train, y_train)\n",
    "# 3. use the thing (make predictions)\n",
    "X_validate = validate[['Infant_Mortality']]\n",
    "predictions['simple_lm'] = lm.predict(X_validate)"
   ]
  },
  {
   "cell_type": "code",
   "execution_count": 51,
   "id": "3fb09d57",
   "metadata": {},
   "outputs": [
    {
     "data": {
      "text/html": [
       "<div>\n",
       "<style scoped>\n",
       "    .dataframe tbody tr th:only-of-type {\n",
       "        vertical-align: middle;\n",
       "    }\n",
       "\n",
       "    .dataframe tbody tr th {\n",
       "        vertical-align: top;\n",
       "    }\n",
       "\n",
       "    .dataframe thead th {\n",
       "        text-align: right;\n",
       "    }\n",
       "</style>\n",
       "<table border=\"1\" class=\"dataframe\">\n",
       "  <thead>\n",
       "    <tr style=\"text-align: right;\">\n",
       "      <th></th>\n",
       "      <th>actual</th>\n",
       "      <th>simple_lm</th>\n",
       "    </tr>\n",
       "  </thead>\n",
       "  <tbody>\n",
       "    <tr>\n",
       "      <th>Moudon</th>\n",
       "      <td>65.0</td>\n",
       "      <td>75.758117</td>\n",
       "    </tr>\n",
       "    <tr>\n",
       "      <th>Echallens</th>\n",
       "      <td>68.3</td>\n",
       "      <td>73.744388</td>\n",
       "    </tr>\n",
       "    <tr>\n",
       "      <th>Moutier</th>\n",
       "      <td>85.8</td>\n",
       "      <td>72.234092</td>\n",
       "    </tr>\n",
       "    <tr>\n",
       "      <th>Morges</th>\n",
       "      <td>65.5</td>\n",
       "      <td>68.374447</td>\n",
       "    </tr>\n",
       "    <tr>\n",
       "      <th>Sierre</th>\n",
       "      <td>92.2</td>\n",
       "      <td>65.521665</td>\n",
       "    </tr>\n",
       "  </tbody>\n",
       "</table>\n",
       "</div>"
      ],
      "text/plain": [
       "           actual  simple_lm\n",
       "Moudon       65.0  75.758117\n",
       "Echallens    68.3  73.744388\n",
       "Moutier      85.8  72.234092\n",
       "Morges       65.5  68.374447\n",
       "Sierre       92.2  65.521665"
      ]
     },
     "execution_count": 51,
     "metadata": {},
     "output_type": "execute_result"
    }
   ],
   "source": [
    "predictions.head()"
   ]
  },
  {
   "cell_type": "code",
   "execution_count": 52,
   "id": "be7ae759",
   "metadata": {},
   "outputs": [
    {
     "data": {
      "text/plain": [
       "(array([1.67810674]), 38.1685255904402)"
      ]
     },
     "execution_count": 52,
     "metadata": {},
     "output_type": "execute_result"
    }
   ],
   "source": [
    "lm.coef_, lm.intercept_"
   ]
  },
  {
   "cell_type": "code",
   "execution_count": 53,
   "id": "9eb7349d",
   "metadata": {},
   "outputs": [
    {
     "name": "stdout",
     "output_type": "stream",
     "text": [
      "Fertility = 1.68 * Infant_Mortality + 38.17\n"
     ]
    }
   ],
   "source": [
    "print('Fertility = {:.2f} * Infant_Mortality + {:.2f}'.format(lm.coef_[0], lm.intercept_))"
   ]
  },
  {
   "cell_type": "code",
   "execution_count": 54,
   "id": "4a278166",
   "metadata": {},
   "outputs": [
    {
     "name": "stdout",
     "output_type": "stream",
     "text": [
      "For every 1 point increase in Infant_Mortality, we predict a 1.68 point increase in Fertility\n"
     ]
    }
   ],
   "source": [
    "# Fertility = 1.68* Infant_Mortality  + 38.17\n",
    "print(f'For every 1 point increase in Infant_Mortality, we predict a {lm.coef_[0]:.2f} point increase in Fertility')"
   ]
  },
  {
   "cell_type": "code",
   "execution_count": 55,
   "id": "bf52d210",
   "metadata": {},
   "outputs": [
    {
     "data": {
      "text/plain": [
       "<matplotlib.legend.Legend at 0x14bbf1eb0>"
      ]
     },
     "execution_count": 55,
     "metadata": {},
     "output_type": "execute_result"
    },
    {
     "data": {
      "image/png": "[encoded data removed]",
      "text/plain": [
       "<Figure size 1152x648 with 1 Axes>"
      ]
     },
     "metadata": {
      "needs_background": "light"
     },
     "output_type": "display_data"
    }
   ],
   "source": [
    "x_pred = np.array([-25, 100]).reshape(-1, 1)\n",
    "y_pred = lm.predict(x_pred)\n",
    "\n",
    "plt.figure(figsize=(16, 9))\n",
    "plt.scatter(train.Infant_Mortality, train.Fertility, label='actual')\n",
    "plt.scatter(train.Infant_Mortality, lm.predict(train[['Infant_Mortality']]), label='simple_lm')\n",
    "plt.plot(x_pred, y_pred, ls='--', c='black', label='linear model prediction line')\n",
    "plt.hlines(0, -25, 100, ls=':', color='grey')\n",
    "plt.vlines(0, -10, 100, ls=':', color='grey')\n",
    "\n",
    "plt.xlabel('Infant_Mortality')\n",
    "plt.ylabel('Fertility')\n",
    "plt.legend()"
   ]
  },
  {
   "cell_type": "code",
   "execution_count": 56,
   "id": "49a2566e",
   "metadata": {},
   "outputs": [
    {
     "data": {
      "text/html": [
       "<div>\n",
       "<style scoped>\n",
       "    .dataframe tbody tr th:only-of-type {\n",
       "        vertical-align: middle;\n",
       "    }\n",
       "\n",
       "    .dataframe tbody tr th {\n",
       "        vertical-align: top;\n",
       "    }\n",
       "\n",
       "    .dataframe thead th {\n",
       "        text-align: right;\n",
       "    }\n",
       "</style>\n",
       "<table border=\"1\" class=\"dataframe\">\n",
       "  <thead>\n",
       "    <tr style=\"text-align: right;\">\n",
       "      <th></th>\n",
       "      <th>Infant_Mortality</th>\n",
       "      <th>predicted_fertility</th>\n",
       "    </tr>\n",
       "  </thead>\n",
       "  <tbody>\n",
       "    <tr>\n",
       "      <th>0</th>\n",
       "      <td>75</td>\n",
       "      <td>164.026531</td>\n",
       "    </tr>\n",
       "    <tr>\n",
       "      <th>1</th>\n",
       "      <td>76</td>\n",
       "      <td>165.704638</td>\n",
       "    </tr>\n",
       "    <tr>\n",
       "      <th>2</th>\n",
       "      <td>77</td>\n",
       "      <td>167.382745</td>\n",
       "    </tr>\n",
       "    <tr>\n",
       "      <th>3</th>\n",
       "      <td>78</td>\n",
       "      <td>169.060851</td>\n",
       "    </tr>\n",
       "    <tr>\n",
       "      <th>4</th>\n",
       "      <td>79</td>\n",
       "      <td>170.738958</td>\n",
       "    </tr>\n",
       "    <tr>\n",
       "      <th>5</th>\n",
       "      <td>80</td>\n",
       "      <td>172.417065</td>\n",
       "    </tr>\n",
       "    <tr>\n",
       "      <th>6</th>\n",
       "      <td>81</td>\n",
       "      <td>174.095171</td>\n",
       "    </tr>\n",
       "    <tr>\n",
       "      <th>7</th>\n",
       "      <td>82</td>\n",
       "      <td>175.773278</td>\n",
       "    </tr>\n",
       "    <tr>\n",
       "      <th>8</th>\n",
       "      <td>83</td>\n",
       "      <td>177.451385</td>\n",
       "    </tr>\n",
       "    <tr>\n",
       "      <th>9</th>\n",
       "      <td>84</td>\n",
       "      <td>179.129492</td>\n",
       "    </tr>\n",
       "    <tr>\n",
       "      <th>10</th>\n",
       "      <td>85</td>\n",
       "      <td>180.807598</td>\n",
       "    </tr>\n",
       "    <tr>\n",
       "      <th>11</th>\n",
       "      <td>86</td>\n",
       "      <td>182.485705</td>\n",
       "    </tr>\n",
       "  </tbody>\n",
       "</table>\n",
       "</div>"
      ],
      "text/plain": [
       "    Infant_Mortality  predicted_fertility\n",
       "0                 75           164.026531\n",
       "1                 76           165.704638\n",
       "2                 77           167.382745\n",
       "3                 78           169.060851\n",
       "4                 79           170.738958\n",
       "5                 80           172.417065\n",
       "6                 81           174.095171\n",
       "7                 82           175.773278\n",
       "8                 83           177.451385\n",
       "9                 84           179.129492\n",
       "10                85           180.807598\n",
       "11                86           182.485705"
      ]
     },
     "execution_count": 56,
     "metadata": {},
     "output_type": "execute_result"
    }
   ],
   "source": [
    "Infant_Mortality = np.arange(75, 87)\n",
    "Fertility = lm.predict(Infant_Mortality.reshape(-1, 1))\n",
    "pd.DataFrame(dict(Infant_Mortality=Infant_Mortality, predicted_fertility=Fertility))"
   ]
  },
  {
   "cell_type": "code",
   "execution_count": 57,
   "id": "e0d210b7",
   "metadata": {},
   "outputs": [
    {
     "name": "stdout",
     "output_type": "stream",
     "text": [
      "selected top 2 features: Index(['Examination', 'Infant_Mortality'], dtype='object')\n"
     ]
    }
   ],
   "source": [
    "X_train = train.drop(columns='Fertility')\n",
    "y_train = train.Fertility\n",
    "X_validate = validate.drop(columns='Fertility')\n",
    "\n",
    "lm = LinearRegression()\n",
    "k = 2\n",
    "\n",
    "# 1. Transform our X\n",
    "rfe = RFE(lm, n_features_to_select=2)\n",
    "rfe.fit(X_train, y_train)\n",
    "print('selected top 2 features:', X_train.columns[rfe.support_])\n",
    "X_train_rfe = rfe.transform(X_train)"
   ]
  },
  {
   "cell_type": "code",
   "execution_count": 58,
   "id": "326b4614",
   "metadata": {},
   "outputs": [
    {
     "data": {
      "text/plain": [
       "(25, 5)"
      ]
     },
     "execution_count": 58,
     "metadata": {},
     "output_type": "execute_result"
    }
   ],
   "source": [
    "X_train.shape"
   ]
  },
  {
   "cell_type": "code",
   "execution_count": 59,
   "id": "2a7575ac",
   "metadata": {},
   "outputs": [
    {
     "data": {
      "text/plain": [
       "(25, 2)"
      ]
     },
     "execution_count": 59,
     "metadata": {},
     "output_type": "execute_result"
    }
   ],
   "source": [
    "X_train_rfe.shape"
   ]
  },
  {
   "cell_type": "code",
   "execution_count": 60,
   "id": "e62bbb46",
   "metadata": {},
   "outputs": [
    {
     "data": {
      "text/html": [
       "<div>\n",
       "<style scoped>\n",
       "    .dataframe tbody tr th:only-of-type {\n",
       "        vertical-align: middle;\n",
       "    }\n",
       "\n",
       "    .dataframe tbody tr th {\n",
       "        vertical-align: top;\n",
       "    }\n",
       "\n",
       "    .dataframe thead th {\n",
       "        text-align: right;\n",
       "    }\n",
       "</style>\n",
       "<table border=\"1\" class=\"dataframe\">\n",
       "  <thead>\n",
       "    <tr style=\"text-align: right;\">\n",
       "      <th></th>\n",
       "      <th>actual</th>\n",
       "      <th>simple_lm</th>\n",
       "      <th>multiple_rfe</th>\n",
       "    </tr>\n",
       "  </thead>\n",
       "  <tbody>\n",
       "    <tr>\n",
       "      <th>Moudon</th>\n",
       "      <td>65.0</td>\n",
       "      <td>75.758117</td>\n",
       "      <td>79.180470</td>\n",
       "    </tr>\n",
       "    <tr>\n",
       "      <th>Echallens</th>\n",
       "      <td>68.3</td>\n",
       "      <td>73.744388</td>\n",
       "      <td>72.719716</td>\n",
       "    </tr>\n",
       "    <tr>\n",
       "      <th>Moutier</th>\n",
       "      <td>85.8</td>\n",
       "      <td>72.234092</td>\n",
       "      <td>75.987317</td>\n",
       "    </tr>\n",
       "    <tr>\n",
       "      <th>Morges</th>\n",
       "      <td>65.5</td>\n",
       "      <td>68.374447</td>\n",
       "      <td>61.500793</td>\n",
       "    </tr>\n",
       "    <tr>\n",
       "      <th>Sierre</th>\n",
       "      <td>92.2</td>\n",
       "      <td>65.521665</td>\n",
       "      <td>74.584142</td>\n",
       "    </tr>\n",
       "  </tbody>\n",
       "</table>\n",
       "</div>"
      ],
      "text/plain": [
       "           actual  simple_lm  multiple_rfe\n",
       "Moudon       65.0  75.758117     79.180470\n",
       "Echallens    68.3  73.744388     72.719716\n",
       "Moutier      85.8  72.234092     75.987317\n",
       "Morges       65.5  68.374447     61.500793\n",
       "Sierre       92.2  65.521665     74.584142"
      ]
     },
     "execution_count": 60,
     "metadata": {},
     "output_type": "execute_result"
    }
   ],
   "source": [
    "# 2. Use the transformed x in our model\n",
    "lm.fit(X_train_rfe, y_train)\n",
    "\n",
    "# 3. Make predictions\n",
    "X_validate_rfe = rfe.transform(X_validate)\n",
    "predictions['multiple_rfe'] = lm.predict(X_validate_rfe)\n",
    "\n",
    "predictions.head()"
   ]
  },
  {
   "cell_type": "code",
   "execution_count": 61,
   "id": "268a2cb6",
   "metadata": {},
   "outputs": [
    {
     "data": {
      "text/plain": [
       "Index(['Examination', 'Infant_Mortality'], dtype='object')"
      ]
     },
     "execution_count": 61,
     "metadata": {},
     "output_type": "execute_result"
    }
   ],
   "source": [
    "X_train.columns[rfe.support_]"
   ]
  },
  {
   "cell_type": "code",
   "execution_count": 62,
   "id": "57a4db82",
   "metadata": {},
   "outputs": [
    {
     "data": {
      "text/plain": [
       "(array([-0.90146286,  2.37908502]), 38.50944506277681)"
      ]
     },
     "execution_count": 62,
     "metadata": {},
     "output_type": "execute_result"
    }
   ],
   "source": [
    "lm.coef_, lm.intercept_"
   ]
  },
  {
   "cell_type": "code",
   "execution_count": 63,
   "id": "7a9a772f",
   "metadata": {},
   "outputs": [
    {
     "name": "stdout",
     "output_type": "stream",
     "text": [
      "Fertility = -0.90 x Examination + 2.38 x Infant_Mortality + 38.51\n"
     ]
    }
   ],
   "source": [
    "print(f'Fertility = {lm.coef_[0]:.2f} x Examination + {lm.coef_[1]:.2f} x Infant_Mortality + {lm.intercept_:.2f}')"
   ]
  },
  {
   "cell_type": "code",
   "execution_count": 64,
   "id": "6ac4224c",
   "metadata": {},
   "outputs": [
    {
     "data": {
      "text/html": [
       "<div>\n",
       "<style scoped>\n",
       "    .dataframe tbody tr th:only-of-type {\n",
       "        vertical-align: middle;\n",
       "    }\n",
       "\n",
       "    .dataframe tbody tr th {\n",
       "        vertical-align: top;\n",
       "    }\n",
       "\n",
       "    .dataframe thead th {\n",
       "        text-align: right;\n",
       "    }\n",
       "</style>\n",
       "<table border=\"1\" class=\"dataframe\">\n",
       "  <thead>\n",
       "    <tr style=\"text-align: right;\">\n",
       "      <th></th>\n",
       "      <th>Examination</th>\n",
       "      <th>Infant_Mortality</th>\n",
       "      <th>Fertility</th>\n",
       "    </tr>\n",
       "  </thead>\n",
       "  <tbody>\n",
       "    <tr>\n",
       "      <th>0</th>\n",
       "      <td>80</td>\n",
       "      <td>80</td>\n",
       "      <td>156.719218</td>\n",
       "    </tr>\n",
       "    <tr>\n",
       "      <th>1</th>\n",
       "      <td>81</td>\n",
       "      <td>80</td>\n",
       "      <td>155.817755</td>\n",
       "    </tr>\n",
       "    <tr>\n",
       "      <th>2</th>\n",
       "      <td>82</td>\n",
       "      <td>80</td>\n",
       "      <td>154.916293</td>\n",
       "    </tr>\n",
       "    <tr>\n",
       "      <th>3</th>\n",
       "      <td>83</td>\n",
       "      <td>80</td>\n",
       "      <td>154.014830</td>\n",
       "    </tr>\n",
       "    <tr>\n",
       "      <th>4</th>\n",
       "      <td>84</td>\n",
       "      <td>80</td>\n",
       "      <td>153.113367</td>\n",
       "    </tr>\n",
       "    <tr>\n",
       "      <th>5</th>\n",
       "      <td>85</td>\n",
       "      <td>80</td>\n",
       "      <td>152.211904</td>\n",
       "    </tr>\n",
       "    <tr>\n",
       "      <th>6</th>\n",
       "      <td>85</td>\n",
       "      <td>81</td>\n",
       "      <td>154.590989</td>\n",
       "    </tr>\n",
       "    <tr>\n",
       "      <th>7</th>\n",
       "      <td>85</td>\n",
       "      <td>82</td>\n",
       "      <td>156.970074</td>\n",
       "    </tr>\n",
       "    <tr>\n",
       "      <th>8</th>\n",
       "      <td>85</td>\n",
       "      <td>83</td>\n",
       "      <td>159.349159</td>\n",
       "    </tr>\n",
       "    <tr>\n",
       "      <th>9</th>\n",
       "      <td>85</td>\n",
       "      <td>84</td>\n",
       "      <td>161.728244</td>\n",
       "    </tr>\n",
       "    <tr>\n",
       "      <th>10</th>\n",
       "      <td>85</td>\n",
       "      <td>85</td>\n",
       "      <td>164.107329</td>\n",
       "    </tr>\n",
       "  </tbody>\n",
       "</table>\n",
       "</div>"
      ],
      "text/plain": [
       "    Examination  Infant_Mortality   Fertility\n",
       "0            80                80  156.719218\n",
       "1            81                80  155.817755\n",
       "2            82                80  154.916293\n",
       "3            83                80  154.014830\n",
       "4            84                80  153.113367\n",
       "5            85                80  152.211904\n",
       "6            85                81  154.590989\n",
       "7            85                82  156.970074\n",
       "8            85                83  159.349159\n",
       "9            85                84  161.728244\n",
       "10           85                85  164.107329"
      ]
     },
     "execution_count": 64,
     "metadata": {},
     "output_type": "execute_result"
    }
   ],
   "source": [
    "X = pd.DataFrame({\n",
    "    'Examination': [80, 81, 82, 83, 84, 85, 85, 85, 85, 85, 85],\n",
    "    'Infant_Mortality': [80, 80, 80, 80, 80, 80, 81, 82, 83, 84, 85]\n",
    "})\n",
    "\n",
    "X['Fertility'] = lm.predict(X)\n",
    "X"
   ]
  },
  {
   "cell_type": "code",
   "execution_count": 65,
   "id": "10ee5fc6",
   "metadata": {},
   "outputs": [
    {
     "data": {
      "text/html": [
       "<div>\n",
       "<style scoped>\n",
       "    .dataframe tbody tr th:only-of-type {\n",
       "        vertical-align: middle;\n",
       "    }\n",
       "\n",
       "    .dataframe tbody tr th {\n",
       "        vertical-align: top;\n",
       "    }\n",
       "\n",
       "    .dataframe thead th {\n",
       "        text-align: right;\n",
       "    }\n",
       "</style>\n",
       "<table border=\"1\" class=\"dataframe\">\n",
       "  <thead>\n",
       "    <tr style=\"text-align: right;\">\n",
       "      <th></th>\n",
       "      <th>Agriculture</th>\n",
       "      <th>Examination</th>\n",
       "      <th>Education</th>\n",
       "      <th>Catholic</th>\n",
       "      <th>Infant_Mortality</th>\n",
       "      <th>Agriculture^2</th>\n",
       "      <th>Agriculture Examination</th>\n",
       "      <th>Agriculture Education</th>\n",
       "      <th>Agriculture Catholic</th>\n",
       "      <th>Agriculture Infant_Mortality</th>\n",
       "      <th>Examination^2</th>\n",
       "      <th>Examination Education</th>\n",
       "      <th>Examination Catholic</th>\n",
       "      <th>Examination Infant_Mortality</th>\n",
       "      <th>Education^2</th>\n",
       "      <th>Education Catholic</th>\n",
       "      <th>Education Infant_Mortality</th>\n",
       "      <th>Catholic^2</th>\n",
       "      <th>Catholic Infant_Mortality</th>\n",
       "      <th>Infant_Mortality^2</th>\n",
       "    </tr>\n",
       "  </thead>\n",
       "  <tbody>\n",
       "    <tr>\n",
       "      <th>Rolle</th>\n",
       "      <td>60.8</td>\n",
       "      <td>16.0</td>\n",
       "      <td>10.0</td>\n",
       "      <td>7.72</td>\n",
       "      <td>16.3</td>\n",
       "      <td>3696.64</td>\n",
       "      <td>972.8</td>\n",
       "      <td>608.0</td>\n",
       "      <td>469.376</td>\n",
       "      <td>991.04</td>\n",
       "      <td>256.0</td>\n",
       "      <td>160.0</td>\n",
       "      <td>123.52</td>\n",
       "      <td>260.8</td>\n",
       "      <td>100.0</td>\n",
       "      <td>77.20</td>\n",
       "      <td>163.0</td>\n",
       "      <td>59.5984</td>\n",
       "      <td>125.836</td>\n",
       "      <td>265.69</td>\n",
       "    </tr>\n",
       "    <tr>\n",
       "      <th>Lavaux</th>\n",
       "      <td>73.0</td>\n",
       "      <td>19.0</td>\n",
       "      <td>9.0</td>\n",
       "      <td>2.84</td>\n",
       "      <td>20.0</td>\n",
       "      <td>5329.00</td>\n",
       "      <td>1387.0</td>\n",
       "      <td>657.0</td>\n",
       "      <td>207.320</td>\n",
       "      <td>1460.00</td>\n",
       "      <td>361.0</td>\n",
       "      <td>171.0</td>\n",
       "      <td>53.96</td>\n",
       "      <td>380.0</td>\n",
       "      <td>81.0</td>\n",
       "      <td>25.56</td>\n",
       "      <td>180.0</td>\n",
       "      <td>8.0656</td>\n",
       "      <td>56.800</td>\n",
       "      <td>400.00</td>\n",
       "    </tr>\n",
       "    <tr>\n",
       "      <th>Nyone</th>\n",
       "      <td>50.9</td>\n",
       "      <td>22.0</td>\n",
       "      <td>12.0</td>\n",
       "      <td>15.14</td>\n",
       "      <td>16.7</td>\n",
       "      <td>2590.81</td>\n",
       "      <td>1119.8</td>\n",
       "      <td>610.8</td>\n",
       "      <td>770.626</td>\n",
       "      <td>850.03</td>\n",
       "      <td>484.0</td>\n",
       "      <td>264.0</td>\n",
       "      <td>333.08</td>\n",
       "      <td>367.4</td>\n",
       "      <td>144.0</td>\n",
       "      <td>181.68</td>\n",
       "      <td>200.4</td>\n",
       "      <td>229.2196</td>\n",
       "      <td>252.838</td>\n",
       "      <td>278.89</td>\n",
       "    </tr>\n",
       "    <tr>\n",
       "      <th>Conthey</th>\n",
       "      <td>85.9</td>\n",
       "      <td>3.0</td>\n",
       "      <td>2.0</td>\n",
       "      <td>99.71</td>\n",
       "      <td>15.1</td>\n",
       "      <td>7378.81</td>\n",
       "      <td>257.7</td>\n",
       "      <td>171.8</td>\n",
       "      <td>8565.089</td>\n",
       "      <td>1297.09</td>\n",
       "      <td>9.0</td>\n",
       "      <td>6.0</td>\n",
       "      <td>299.13</td>\n",
       "      <td>45.3</td>\n",
       "      <td>4.0</td>\n",
       "      <td>199.42</td>\n",
       "      <td>30.2</td>\n",
       "      <td>9942.0841</td>\n",
       "      <td>1505.621</td>\n",
       "      <td>228.01</td>\n",
       "    </tr>\n",
       "    <tr>\n",
       "      <th>Yverdon</th>\n",
       "      <td>49.5</td>\n",
       "      <td>15.0</td>\n",
       "      <td>8.0</td>\n",
       "      <td>6.10</td>\n",
       "      <td>22.5</td>\n",
       "      <td>2450.25</td>\n",
       "      <td>742.5</td>\n",
       "      <td>396.0</td>\n",
       "      <td>301.950</td>\n",
       "      <td>1113.75</td>\n",
       "      <td>225.0</td>\n",
       "      <td>120.0</td>\n",
       "      <td>91.50</td>\n",
       "      <td>337.5</td>\n",
       "      <td>64.0</td>\n",
       "      <td>48.80</td>\n",
       "      <td>180.0</td>\n",
       "      <td>37.2100</td>\n",
       "      <td>137.250</td>\n",
       "      <td>506.25</td>\n",
       "    </tr>\n",
       "  </tbody>\n",
       "</table>\n",
       "</div>"
      ],
      "text/plain": [
       "         Agriculture  Examination  Education  Catholic  Infant_Mortality  \\\n",
       "Rolle           60.8         16.0       10.0      7.72              16.3   \n",
       "Lavaux          73.0         19.0        9.0      2.84              20.0   \n",
       "Nyone           50.9         22.0       12.0     15.14              16.7   \n",
       "Conthey         85.9          3.0        2.0     99.71              15.1   \n",
       "Yverdon         49.5         15.0        8.0      6.10              22.5   \n",
       "\n",
       "         Agriculture^2  Agriculture Examination  Agriculture Education  \\\n",
       "Rolle          3696.64                    972.8                  608.0   \n",
       "Lavaux         5329.00                   1387.0                  657.0   \n",
       "Nyone          2590.81                   1119.8                  610.8   \n",
       "Conthey        7378.81                    257.7                  171.8   \n",
       "Yverdon        2450.25                    742.5                  396.0   \n",
       "\n",
       "         Agriculture Catholic  Agriculture Infant_Mortality  Examination^2  \\\n",
       "Rolle                 469.376                        991.04          256.0   \n",
       "Lavaux                207.320                       1460.00          361.0   \n",
       "Nyone                 770.626                        850.03          484.0   \n",
       "Conthey              8565.089                       1297.09            9.0   \n",
       "Yverdon               301.950                       1113.75          225.0   \n",
       "\n",
       "         Examination Education  Examination Catholic  \\\n",
       "Rolle                    160.0                123.52   \n",
       "Lavaux                   171.0                 53.96   \n",
       "Nyone                    264.0                333.08   \n",
       "Conthey                    6.0                299.13   \n",
       "Yverdon                  120.0                 91.50   \n",
       "\n",
       "         Examination Infant_Mortality  Education^2  Education Catholic  \\\n",
       "Rolle                           260.8        100.0               77.20   \n",
       "Lavaux                          380.0         81.0               25.56   \n",
       "Nyone                           367.4        144.0              181.68   \n",
       "Conthey                          45.3          4.0              199.42   \n",
       "Yverdon                         337.5         64.0               48.80   \n",
       "\n",
       "         Education Infant_Mortality  Catholic^2  Catholic Infant_Mortality  \\\n",
       "Rolle                         163.0     59.5984                    125.836   \n",
       "Lavaux                        180.0      8.0656                     56.800   \n",
       "Nyone                         200.4    229.2196                    252.838   \n",
       "Conthey                        30.2   9942.0841                   1505.621   \n",
       "Yverdon                       180.0     37.2100                    137.250   \n",
       "\n",
       "         Infant_Mortality^2  \n",
       "Rolle                265.69  \n",
       "Lavaux               400.00  \n",
       "Nyone                278.89  \n",
       "Conthey              228.01  \n",
       "Yverdon              506.25  "
      ]
     },
     "execution_count": 65,
     "metadata": {},
     "output_type": "execute_result"
    }
   ],
   "source": [
    "from sklearn.preprocessing import PolynomialFeatures\n",
    "\n",
    "X_train = train[['Agriculture', 'Examination', 'Education', 'Catholic','Infant_Mortality']]\n",
    "X_validate = validate[['Agriculture', 'Examination', 'Education', 'Catholic','Infant_Mortality']]\n",
    "y_train = train.Fertility\n",
    "y_validate = validate.Fertility\n",
    "\n",
    "# 1. Generate Polynomial Features\n",
    "poly = PolynomialFeatures(degree=2, include_bias=False, interaction_only=False)\n",
    "poly.fit(X_train)\n",
    "X_train_poly = pd.DataFrame(\n",
    "    poly.transform(X_train),\n",
    "    columns=poly.get_feature_names(X_train.columns),\n",
    "    index=train.index,\n",
    ")\n",
    "X_train_poly.head()"
   ]
  },
  {
   "cell_type": "code",
   "execution_count": 66,
   "id": "9c4eb9f2",
   "metadata": {},
   "outputs": [
    {
     "data": {
      "text/plain": [
       "('Agriculture', 'Examination', 'Education', 'Catholic', 'Infant_Mortality')"
      ]
     },
     "execution_count": 66,
     "metadata": {},
     "output_type": "execute_result"
    }
   ],
   "source": [
    "'Agriculture', 'Examination', 'Education', 'Catholic','Infant_Mortality'"
   ]
  },
  {
   "cell_type": "code",
   "execution_count": 67,
   "id": "af45608f",
   "metadata": {},
   "outputs": [],
   "source": [
    "# 2. Use the features\n",
    "lm = LinearRegression()\n",
    "lm.fit(X_train_poly, y_train)\n",
    "\n",
    "X_validate_poly = poly.transform(X_validate)\n",
    "predictions['polynomial degree 2'] = lm.predict(X_validate_poly)"
   ]
  },
  {
   "cell_type": "code",
   "execution_count": 68,
   "id": "a1a39109",
   "metadata": {},
   "outputs": [
    {
     "data": {
      "text/html": [
       "<div>\n",
       "<style scoped>\n",
       "    .dataframe tbody tr th:only-of-type {\n",
       "        vertical-align: middle;\n",
       "    }\n",
       "\n",
       "    .dataframe tbody tr th {\n",
       "        vertical-align: top;\n",
       "    }\n",
       "\n",
       "    .dataframe thead th {\n",
       "        text-align: right;\n",
       "    }\n",
       "</style>\n",
       "<table border=\"1\" class=\"dataframe\">\n",
       "  <thead>\n",
       "    <tr style=\"text-align: right;\">\n",
       "      <th></th>\n",
       "      <th>actual</th>\n",
       "      <th>simple_lm</th>\n",
       "      <th>multiple_rfe</th>\n",
       "      <th>polynomial degree 2</th>\n",
       "    </tr>\n",
       "  </thead>\n",
       "  <tbody>\n",
       "    <tr>\n",
       "      <th>Moudon</th>\n",
       "      <td>65.0</td>\n",
       "      <td>75.758117</td>\n",
       "      <td>79.180470</td>\n",
       "      <td>70.440827</td>\n",
       "    </tr>\n",
       "    <tr>\n",
       "      <th>Echallens</th>\n",
       "      <td>68.3</td>\n",
       "      <td>73.744388</td>\n",
       "      <td>72.719716</td>\n",
       "      <td>56.529804</td>\n",
       "    </tr>\n",
       "    <tr>\n",
       "      <th>Moutier</th>\n",
       "      <td>85.8</td>\n",
       "      <td>72.234092</td>\n",
       "      <td>75.987317</td>\n",
       "      <td>52.966604</td>\n",
       "    </tr>\n",
       "    <tr>\n",
       "      <th>Morges</th>\n",
       "      <td>65.5</td>\n",
       "      <td>68.374447</td>\n",
       "      <td>61.500793</td>\n",
       "      <td>56.233434</td>\n",
       "    </tr>\n",
       "    <tr>\n",
       "      <th>Sierre</th>\n",
       "      <td>92.2</td>\n",
       "      <td>65.521665</td>\n",
       "      <td>74.584142</td>\n",
       "      <td>73.448374</td>\n",
       "    </tr>\n",
       "  </tbody>\n",
       "</table>\n",
       "</div>"
      ],
      "text/plain": [
       "           actual  simple_lm  multiple_rfe  polynomial degree 2\n",
       "Moudon       65.0  75.758117     79.180470            70.440827\n",
       "Echallens    68.3  73.744388     72.719716            56.529804\n",
       "Moutier      85.8  72.234092     75.987317            52.966604\n",
       "Morges       65.5  68.374447     61.500793            56.233434\n",
       "Sierre       92.2  65.521665     74.584142            73.448374"
      ]
     },
     "execution_count": 68,
     "metadata": {},
     "output_type": "execute_result"
    }
   ],
   "source": [
    "predictions.head()"
   ]
  },
  {
   "cell_type": "code",
   "execution_count": 69,
   "id": "dd3f2003",
   "metadata": {},
   "outputs": [
    {
     "data": {
      "text/plain": [
       "Infant_Mortality               -21.547623\n",
       "Examination                     -6.656864\n",
       "Agriculture                     -2.383414\n",
       "Catholic                        -1.052150\n",
       "Education Infant_Mortality      -0.294139\n",
       "Examination Education           -0.186597\n",
       "Agriculture Education           -0.037050\n",
       "Education Catholic              -0.021871\n",
       "Agriculture Catholic            -0.005122\n",
       "Catholic Infant_Mortality       -0.002921\n",
       "Agriculture^2                    0.008696\n",
       "Catholic^2                       0.014627\n",
       "Examination Catholic             0.016078\n",
       "Agriculture Examination          0.024626\n",
       "Agriculture Infant_Mortality     0.063376\n",
       "Education^2                      0.086182\n",
       "Examination^2                    0.090223\n",
       "Examination Infant_Mortality     0.129974\n",
       "Infant_Mortality^2               0.493032\n",
       "Education                       10.548768\n",
       "dtype: float64"
      ]
     },
     "execution_count": 69,
     "metadata": {},
     "output_type": "execute_result"
    }
   ],
   "source": [
    "feature_names = poly.get_feature_names(X_train.columns)\n",
    "pd.Series(lm.coef_, index=feature_names).sort_values()"
   ]
  },
  {
   "cell_type": "code",
   "execution_count": 70,
   "id": "3d9f9eb1",
   "metadata": {},
   "outputs": [
    {
     "data": {
      "text/plain": [
       "Infant_Mortality               -13.914894\n",
       "Examination                     -7.688899\n",
       "Agriculture                     -2.957106\n",
       "Catholic                        -0.132381\n",
       "Examination Education           -0.055047\n",
       "Agriculture Education           -0.025265\n",
       "Examination Catholic            -0.016971\n",
       "Agriculture Catholic            -0.001199\n",
       "Agriculture Examination          0.006910\n",
       "Education Catholic               0.009351\n",
       "Catholic Infant_Mortality        0.021658\n",
       "Education Infant_Mortality       0.046714\n",
       "Agriculture Infant_Mortality     0.146670\n",
       "Examination Infant_Mortality     0.371089\n",
       "Education                        1.088885\n",
       "dtype: float64"
      ]
     },
     "execution_count": 70,
     "metadata": {},
     "output_type": "execute_result"
    }
   ],
   "source": [
    "poly = PolynomialFeatures(degree=2, include_bias=False, interaction_only=True)\n",
    "poly.fit(X_train)\n",
    "X_train_poly = pd.DataFrame(\n",
    "    poly.transform(X_train),\n",
    "    columns=poly.get_feature_names(X_train.columns),\n",
    "    index=train.index,\n",
    ")\n",
    "lm = LinearRegression()\n",
    "lm.fit(X_train_poly, y_train)\n",
    "\n",
    "X_validate_poly = poly.transform(X_validate)\n",
    "predictions['polynomial only interaction'] = lm.predict(X_validate_poly)\n",
    "\n",
    "pd.Series(lm.coef_, index=poly.get_feature_names(X_train.columns)).sort_values()"
   ]
  },
  {
   "cell_type": "code",
   "execution_count": 71,
   "id": "1ba5943a",
   "metadata": {},
   "outputs": [
    {
     "data": {
      "text/html": [
       "<div>\n",
       "<style scoped>\n",
       "    .dataframe tbody tr th:only-of-type {\n",
       "        vertical-align: middle;\n",
       "    }\n",
       "\n",
       "    .dataframe tbody tr th {\n",
       "        vertical-align: top;\n",
       "    }\n",
       "\n",
       "    .dataframe thead th {\n",
       "        text-align: right;\n",
       "    }\n",
       "</style>\n",
       "<table border=\"1\" class=\"dataframe\">\n",
       "  <thead>\n",
       "    <tr style=\"text-align: right;\">\n",
       "      <th></th>\n",
       "      <th>Agriculture</th>\n",
       "      <th>Examination</th>\n",
       "      <th>Education</th>\n",
       "      <th>Catholic</th>\n",
       "      <th>Infant_Mortality</th>\n",
       "    </tr>\n",
       "  </thead>\n",
       "  <tbody>\n",
       "    <tr>\n",
       "      <th>Rolle</th>\n",
       "      <td>60.8</td>\n",
       "      <td>16</td>\n",
       "      <td>10</td>\n",
       "      <td>7.72</td>\n",
       "      <td>16.3</td>\n",
       "    </tr>\n",
       "    <tr>\n",
       "      <th>Lavaux</th>\n",
       "      <td>73.0</td>\n",
       "      <td>19</td>\n",
       "      <td>9</td>\n",
       "      <td>2.84</td>\n",
       "      <td>20.0</td>\n",
       "    </tr>\n",
       "    <tr>\n",
       "      <th>Nyone</th>\n",
       "      <td>50.9</td>\n",
       "      <td>22</td>\n",
       "      <td>12</td>\n",
       "      <td>15.14</td>\n",
       "      <td>16.7</td>\n",
       "    </tr>\n",
       "    <tr>\n",
       "      <th>Conthey</th>\n",
       "      <td>85.9</td>\n",
       "      <td>3</td>\n",
       "      <td>2</td>\n",
       "      <td>99.71</td>\n",
       "      <td>15.1</td>\n",
       "    </tr>\n",
       "    <tr>\n",
       "      <th>Yverdon</th>\n",
       "      <td>49.5</td>\n",
       "      <td>15</td>\n",
       "      <td>8</td>\n",
       "      <td>6.10</td>\n",
       "      <td>22.5</td>\n",
       "    </tr>\n",
       "  </tbody>\n",
       "</table>\n",
       "</div>"
      ],
      "text/plain": [
       "         Agriculture  Examination  Education  Catholic  Infant_Mortality\n",
       "Rolle           60.8           16         10      7.72              16.3\n",
       "Lavaux          73.0           19          9      2.84              20.0\n",
       "Nyone           50.9           22         12     15.14              16.7\n",
       "Conthey         85.9            3          2     99.71              15.1\n",
       "Yverdon         49.5           15          8      6.10              22.5"
      ]
     },
     "execution_count": 71,
     "metadata": {},
     "output_type": "execute_result"
    }
   ],
   "source": [
    "X_train.head()"
   ]
  },
  {
   "cell_type": "code",
   "execution_count": 72,
   "id": "1c895e26",
   "metadata": {},
   "outputs": [
    {
     "data": {
      "text/plain": [
       "Rolle      60.5\n",
       "Lavaux     65.1\n",
       "Nyone      56.6\n",
       "Conthey    75.5\n",
       "Yverdon    65.4\n",
       "Name: Fertility, dtype: float64"
      ]
     },
     "execution_count": 72,
     "metadata": {},
     "output_type": "execute_result"
    }
   ],
   "source": [
    "y_train.head()"
   ]
  },
  {
   "cell_type": "code",
   "execution_count": 73,
   "id": "f097e43c",
   "metadata": {},
   "outputs": [
    {
     "data": {
      "text/html": [
       "<div>\n",
       "<style scoped>\n",
       "    .dataframe tbody tr th:only-of-type {\n",
       "        vertical-align: middle;\n",
       "    }\n",
       "\n",
       "    .dataframe tbody tr th {\n",
       "        vertical-align: top;\n",
       "    }\n",
       "\n",
       "    .dataframe thead th {\n",
       "        text-align: right;\n",
       "    }\n",
       "</style>\n",
       "<table border=\"1\" class=\"dataframe\">\n",
       "  <thead>\n",
       "    <tr style=\"text-align: right;\">\n",
       "      <th></th>\n",
       "      <th>Agriculture</th>\n",
       "      <th>Examination</th>\n",
       "      <th>Education</th>\n",
       "      <th>Catholic</th>\n",
       "      <th>Infant_Mortality</th>\n",
       "    </tr>\n",
       "  </thead>\n",
       "  <tbody>\n",
       "    <tr>\n",
       "      <th>Moudon</th>\n",
       "      <td>55.1</td>\n",
       "      <td>14</td>\n",
       "      <td>3</td>\n",
       "      <td>4.52</td>\n",
       "      <td>22.4</td>\n",
       "    </tr>\n",
       "    <tr>\n",
       "      <th>Echallens</th>\n",
       "      <td>72.6</td>\n",
       "      <td>18</td>\n",
       "      <td>2</td>\n",
       "      <td>24.20</td>\n",
       "      <td>21.2</td>\n",
       "    </tr>\n",
       "    <tr>\n",
       "      <th>Moutier</th>\n",
       "      <td>36.5</td>\n",
       "      <td>12</td>\n",
       "      <td>7</td>\n",
       "      <td>33.77</td>\n",
       "      <td>20.3</td>\n",
       "    </tr>\n",
       "    <tr>\n",
       "      <th>Morges</th>\n",
       "      <td>59.8</td>\n",
       "      <td>22</td>\n",
       "      <td>10</td>\n",
       "      <td>5.23</td>\n",
       "      <td>18.0</td>\n",
       "    </tr>\n",
       "    <tr>\n",
       "      <th>Sierre</th>\n",
       "      <td>84.6</td>\n",
       "      <td>3</td>\n",
       "      <td>3</td>\n",
       "      <td>99.46</td>\n",
       "      <td>16.3</td>\n",
       "    </tr>\n",
       "  </tbody>\n",
       "</table>\n",
       "</div>"
      ],
      "text/plain": [
       "           Agriculture  Examination  Education  Catholic  Infant_Mortality\n",
       "Moudon            55.1           14          3      4.52              22.4\n",
       "Echallens         72.6           18          2     24.20              21.2\n",
       "Moutier           36.5           12          7     33.77              20.3\n",
       "Morges            59.8           22         10      5.23              18.0\n",
       "Sierre            84.6            3          3     99.46              16.3"
      ]
     },
     "execution_count": 73,
     "metadata": {},
     "output_type": "execute_result"
    }
   ],
   "source": [
    "X_validate.head()"
   ]
  },
  {
   "cell_type": "code",
   "execution_count": 74,
   "id": "3487943e",
   "metadata": {},
   "outputs": [
    {
     "data": {
      "text/plain": [
       "Moudon       65.0\n",
       "Echallens    68.3\n",
       "Moutier      85.8\n",
       "Morges       65.5\n",
       "Sierre       92.2\n",
       "Name: Fertility, dtype: float64"
      ]
     },
     "execution_count": 74,
     "metadata": {},
     "output_type": "execute_result"
    }
   ],
   "source": [
    "y_validate.head()"
   ]
  },
  {
   "cell_type": "code",
   "execution_count": 75,
   "id": "bb89a138",
   "metadata": {},
   "outputs": [
    {
     "data": {
      "text/html": [
       "<div>\n",
       "<style scoped>\n",
       "    .dataframe tbody tr th:only-of-type {\n",
       "        vertical-align: middle;\n",
       "    }\n",
       "\n",
       "    .dataframe tbody tr th {\n",
       "        vertical-align: top;\n",
       "    }\n",
       "\n",
       "    .dataframe thead th {\n",
       "        text-align: right;\n",
       "    }\n",
       "</style>\n",
       "<table border=\"1\" class=\"dataframe\">\n",
       "  <thead>\n",
       "    <tr style=\"text-align: right;\">\n",
       "      <th></th>\n",
       "      <th>actual</th>\n",
       "      <th>simple_lm</th>\n",
       "      <th>multiple_rfe</th>\n",
       "      <th>polynomial degree 2</th>\n",
       "      <th>polynomial only interaction</th>\n",
       "    </tr>\n",
       "  </thead>\n",
       "  <tbody>\n",
       "    <tr>\n",
       "      <th>Moudon</th>\n",
       "      <td>65.0</td>\n",
       "      <td>75.758117</td>\n",
       "      <td>79.180470</td>\n",
       "      <td>70.440827</td>\n",
       "      <td>68.342976</td>\n",
       "    </tr>\n",
       "    <tr>\n",
       "      <th>Echallens</th>\n",
       "      <td>68.3</td>\n",
       "      <td>73.744388</td>\n",
       "      <td>72.719716</td>\n",
       "      <td>56.529804</td>\n",
       "      <td>73.289903</td>\n",
       "    </tr>\n",
       "    <tr>\n",
       "      <th>Moutier</th>\n",
       "      <td>85.8</td>\n",
       "      <td>72.234092</td>\n",
       "      <td>75.987317</td>\n",
       "      <td>52.966604</td>\n",
       "      <td>74.459845</td>\n",
       "    </tr>\n",
       "    <tr>\n",
       "      <th>Morges</th>\n",
       "      <td>65.5</td>\n",
       "      <td>68.374447</td>\n",
       "      <td>61.500793</td>\n",
       "      <td>56.233434</td>\n",
       "      <td>56.666819</td>\n",
       "    </tr>\n",
       "    <tr>\n",
       "      <th>Sierre</th>\n",
       "      <td>92.2</td>\n",
       "      <td>65.521665</td>\n",
       "      <td>74.584142</td>\n",
       "      <td>73.448374</td>\n",
       "      <td>77.953231</td>\n",
       "    </tr>\n",
       "  </tbody>\n",
       "</table>\n",
       "</div>"
      ],
      "text/plain": [
       "           actual  simple_lm  multiple_rfe  polynomial degree 2  \\\n",
       "Moudon       65.0  75.758117     79.180470            70.440827   \n",
       "Echallens    68.3  73.744388     72.719716            56.529804   \n",
       "Moutier      85.8  72.234092     75.987317            52.966604   \n",
       "Morges       65.5  68.374447     61.500793            56.233434   \n",
       "Sierre       92.2  65.521665     74.584142            73.448374   \n",
       "\n",
       "           polynomial only interaction  \n",
       "Moudon                       68.342976  \n",
       "Echallens                    73.289903  \n",
       "Moutier                      74.459845  \n",
       "Morges                       56.666819  \n",
       "Sierre                       77.953231  "
      ]
     },
     "execution_count": 75,
     "metadata": {},
     "output_type": "execute_result"
    }
   ],
   "source": [
    "predictions.head()"
   ]
  },
  {
   "cell_type": "code",
   "execution_count": 76,
   "id": "dc64b7ea",
   "metadata": {},
   "outputs": [],
   "source": [
    "predictions['baseline']=y_train.mean()"
   ]
  },
  {
   "cell_type": "code",
   "execution_count": 77,
   "id": "48776303",
   "metadata": {},
   "outputs": [
    {
     "data": {
      "text/html": [
       "<div>\n",
       "<style scoped>\n",
       "    .dataframe tbody tr th:only-of-type {\n",
       "        vertical-align: middle;\n",
       "    }\n",
       "\n",
       "    .dataframe tbody tr th {\n",
       "        vertical-align: top;\n",
       "    }\n",
       "\n",
       "    .dataframe thead th {\n",
       "        text-align: right;\n",
       "    }\n",
       "</style>\n",
       "<table border=\"1\" class=\"dataframe\">\n",
       "  <thead>\n",
       "    <tr style=\"text-align: right;\">\n",
       "      <th></th>\n",
       "      <th>actual</th>\n",
       "      <th>simple_lm</th>\n",
       "      <th>multiple_rfe</th>\n",
       "      <th>polynomial degree 2</th>\n",
       "      <th>polynomial only interaction</th>\n",
       "      <th>baseline</th>\n",
       "    </tr>\n",
       "  </thead>\n",
       "  <tbody>\n",
       "    <tr>\n",
       "      <th>Moudon</th>\n",
       "      <td>65.0</td>\n",
       "      <td>75.758117</td>\n",
       "      <td>79.180470</td>\n",
       "      <td>70.440827</td>\n",
       "      <td>68.342976</td>\n",
       "      <td>71.536</td>\n",
       "    </tr>\n",
       "    <tr>\n",
       "      <th>Echallens</th>\n",
       "      <td>68.3</td>\n",
       "      <td>73.744388</td>\n",
       "      <td>72.719716</td>\n",
       "      <td>56.529804</td>\n",
       "      <td>73.289903</td>\n",
       "      <td>71.536</td>\n",
       "    </tr>\n",
       "    <tr>\n",
       "      <th>Moutier</th>\n",
       "      <td>85.8</td>\n",
       "      <td>72.234092</td>\n",
       "      <td>75.987317</td>\n",
       "      <td>52.966604</td>\n",
       "      <td>74.459845</td>\n",
       "      <td>71.536</td>\n",
       "    </tr>\n",
       "    <tr>\n",
       "      <th>Morges</th>\n",
       "      <td>65.5</td>\n",
       "      <td>68.374447</td>\n",
       "      <td>61.500793</td>\n",
       "      <td>56.233434</td>\n",
       "      <td>56.666819</td>\n",
       "      <td>71.536</td>\n",
       "    </tr>\n",
       "    <tr>\n",
       "      <th>Sierre</th>\n",
       "      <td>92.2</td>\n",
       "      <td>65.521665</td>\n",
       "      <td>74.584142</td>\n",
       "      <td>73.448374</td>\n",
       "      <td>77.953231</td>\n",
       "      <td>71.536</td>\n",
       "    </tr>\n",
       "  </tbody>\n",
       "</table>\n",
       "</div>"
      ],
      "text/plain": [
       "           actual  simple_lm  multiple_rfe  polynomial degree 2  \\\n",
       "Moudon       65.0  75.758117     79.180470            70.440827   \n",
       "Echallens    68.3  73.744388     72.719716            56.529804   \n",
       "Moutier      85.8  72.234092     75.987317            52.966604   \n",
       "Morges       65.5  68.374447     61.500793            56.233434   \n",
       "Sierre       92.2  65.521665     74.584142            73.448374   \n",
       "\n",
       "           polynomial only interaction  baseline  \n",
       "Moudon                       68.342976    71.536  \n",
       "Echallens                    73.289903    71.536  \n",
       "Moutier                      74.459845    71.536  \n",
       "Morges                       56.666819    71.536  \n",
       "Sierre                       77.953231    71.536  "
      ]
     },
     "execution_count": 77,
     "metadata": {},
     "output_type": "execute_result"
    }
   ],
   "source": [
    "predictions.head()"
   ]
  },
  {
   "cell_type": "code",
   "execution_count": 78,
   "id": "42bab495",
   "metadata": {},
   "outputs": [],
   "source": [
    "from sklearn.linear_model import LassoLars"
   ]
  },
  {
   "cell_type": "code",
   "execution_count": 79,
   "id": "c81024a1",
   "metadata": {},
   "outputs": [],
   "source": [
    "# create the model object\n",
    "lars = LassoLars(alpha=0)\n",
    "\n",
    "# fit the model to our training data\n",
    "lars.fit(X_train, y_train)\n",
    "\n",
    "# predict validate\n",
    "X_validate_pred_lars = lars.predict(X_validate)"
   ]
  },
  {
   "cell_type": "code",
   "execution_count": 80,
   "id": "c5172ec8",
   "metadata": {},
   "outputs": [
    {
     "data": {
      "text/plain": [
       "Examination        -0.796120\n",
       "Agriculture        -0.167471\n",
       "Education          -0.160315\n",
       "Catholic            0.086873\n",
       "Infant_Mortality    1.949335\n",
       "dtype: float64"
      ]
     },
     "execution_count": 80,
     "metadata": {},
     "output_type": "execute_result"
    }
   ],
   "source": [
    "pd.Series(lars.coef_, index=X_train.columns).sort_values()"
   ]
  },
  {
   "cell_type": "code",
   "execution_count": 81,
   "id": "ac0d8024",
   "metadata": {},
   "outputs": [],
   "source": [
    "# create the model object\n",
    "lars = LassoLars(alpha=0.5)\n",
    "\n",
    "# fit the model to our training data= \n",
    "lars.fit(X_train, y_train)\n",
    "\n",
    "# predict validate\n",
    "X_validate_pred_lars = lars.predict(X_validate)"
   ]
  },
  {
   "cell_type": "code",
   "execution_count": 82,
   "id": "b60db26e",
   "metadata": {},
   "outputs": [
    {
     "data": {
      "text/plain": [
       "Examination        -0.209033\n",
       "Agriculture         0.000000\n",
       "Education           0.000000\n",
       "Catholic            0.064415\n",
       "Infant_Mortality    0.790440\n",
       "dtype: float64"
      ]
     },
     "execution_count": 82,
     "metadata": {},
     "output_type": "execute_result"
    }
   ],
   "source": [
    "pd.Series(lars.coef_, index=X_train.columns).sort_values()"
   ]
  },
  {
   "cell_type": "code",
   "execution_count": 83,
   "id": "d64ce30b",
   "metadata": {},
   "outputs": [],
   "source": [
    "# create the model object\n",
    "lars = LassoLars(alpha=1)\n",
    "\n",
    "# fit the model to our training data\n",
    "lars.fit(X_train, y_train)\n",
    "\n",
    "# predict validate\n",
    "X_validate_pred_lars = lars.predict(X_validate)\n",
    "\n",
    "# Add lassolars predictions to our predictions DataFrame\n",
    "predictions['lasso_lars'] = X_validate_pred_lars"
   ]
  },
  {
   "cell_type": "code",
   "execution_count": 84,
   "id": "86030f01",
   "metadata": {},
   "outputs": [
    {
     "data": {
      "text/plain": [
       "Agriculture         0.000000\n",
       "Examination         0.000000\n",
       "Education           0.000000\n",
       "Infant_Mortality    0.000000\n",
       "Catholic            0.032551\n",
       "dtype: float64"
      ]
     },
     "execution_count": 84,
     "metadata": {},
     "output_type": "execute_result"
    }
   ],
   "source": [
    "pd.Series(lars.coef_, index=X_train.columns).sort_values()"
   ]
  },
  {
   "cell_type": "code",
   "execution_count": 85,
   "id": "c83af005",
   "metadata": {},
   "outputs": [
    {
     "data": {
      "text/plain": [
       "70.12378080549193"
      ]
     },
     "execution_count": 85,
     "metadata": {},
     "output_type": "execute_result"
    }
   ],
   "source": [
    "lars.intercept_"
   ]
  },
  {
   "cell_type": "code",
   "execution_count": 86,
   "id": "88188286",
   "metadata": {},
   "outputs": [],
   "source": [
    "# create the model object\n",
    "lars_high_alpha = LassoLars(alpha=2)\n",
    "\n",
    "# fit the model to our training data\n",
    "lars_high_alpha.fit(X_train, y_train)\n",
    "\n",
    "# predict validate\n",
    "X_validate_pred_lars_high_alpha = lars.predict(X_validate)"
   ]
  },
  {
   "cell_type": "code",
   "execution_count": 87,
   "id": "e0bdb787",
   "metadata": {},
   "outputs": [
    {
     "data": {
      "text/plain": [
       "Agriculture         0.0\n",
       "Examination         0.0\n",
       "Education           0.0\n",
       "Catholic            0.0\n",
       "Infant_Mortality    0.0\n",
       "dtype: float64"
      ]
     },
     "execution_count": 87,
     "metadata": {},
     "output_type": "execute_result"
    }
   ],
   "source": [
    "pd.Series(lars_high_alpha.coef_, index=X_train.columns).sort_values()"
   ]
  },
  {
   "cell_type": "code",
   "execution_count": 88,
   "id": "cea4c2f2",
   "metadata": {},
   "outputs": [
    {
     "data": {
      "text/plain": [
       "71.536"
      ]
     },
     "execution_count": 88,
     "metadata": {},
     "output_type": "execute_result"
    }
   ],
   "source": [
    "lars_high_alpha.intercept_"
   ]
  },
  {
   "cell_type": "code",
   "execution_count": 89,
   "id": "1b4ff1b3",
   "metadata": {},
   "outputs": [
    {
     "data": {
      "text/html": [
       "<div>\n",
       "<style scoped>\n",
       "    .dataframe tbody tr th:only-of-type {\n",
       "        vertical-align: middle;\n",
       "    }\n",
       "\n",
       "    .dataframe tbody tr th {\n",
       "        vertical-align: top;\n",
       "    }\n",
       "\n",
       "    .dataframe thead th {\n",
       "        text-align: right;\n",
       "    }\n",
       "</style>\n",
       "<table border=\"1\" class=\"dataframe\">\n",
       "  <thead>\n",
       "    <tr style=\"text-align: right;\">\n",
       "      <th></th>\n",
       "      <th>actual</th>\n",
       "      <th>simple_lm</th>\n",
       "      <th>multiple_rfe</th>\n",
       "      <th>polynomial degree 2</th>\n",
       "      <th>polynomial only interaction</th>\n",
       "      <th>baseline</th>\n",
       "      <th>lasso_lars</th>\n",
       "    </tr>\n",
       "  </thead>\n",
       "  <tbody>\n",
       "    <tr>\n",
       "      <th>Moudon</th>\n",
       "      <td>65.0</td>\n",
       "      <td>75.758117</td>\n",
       "      <td>79.180470</td>\n",
       "      <td>70.440827</td>\n",
       "      <td>68.342976</td>\n",
       "      <td>71.536</td>\n",
       "      <td>70.270910</td>\n",
       "    </tr>\n",
       "    <tr>\n",
       "      <th>Echallens</th>\n",
       "      <td>68.3</td>\n",
       "      <td>73.744388</td>\n",
       "      <td>72.719716</td>\n",
       "      <td>56.529804</td>\n",
       "      <td>73.289903</td>\n",
       "      <td>71.536</td>\n",
       "      <td>70.911508</td>\n",
       "    </tr>\n",
       "    <tr>\n",
       "      <th>Moutier</th>\n",
       "      <td>85.8</td>\n",
       "      <td>72.234092</td>\n",
       "      <td>75.987317</td>\n",
       "      <td>52.966604</td>\n",
       "      <td>74.459845</td>\n",
       "      <td>71.536</td>\n",
       "      <td>71.223018</td>\n",
       "    </tr>\n",
       "    <tr>\n",
       "      <th>Morges</th>\n",
       "      <td>65.5</td>\n",
       "      <td>68.374447</td>\n",
       "      <td>61.500793</td>\n",
       "      <td>56.233434</td>\n",
       "      <td>56.666819</td>\n",
       "      <td>71.536</td>\n",
       "      <td>70.294021</td>\n",
       "    </tr>\n",
       "    <tr>\n",
       "      <th>Sierre</th>\n",
       "      <td>92.2</td>\n",
       "      <td>65.521665</td>\n",
       "      <td>74.584142</td>\n",
       "      <td>73.448374</td>\n",
       "      <td>77.953231</td>\n",
       "      <td>71.536</td>\n",
       "      <td>73.361275</td>\n",
       "    </tr>\n",
       "  </tbody>\n",
       "</table>\n",
       "</div>"
      ],
      "text/plain": [
       "           actual  simple_lm  multiple_rfe  polynomial degree 2  \\\n",
       "Moudon       65.0  75.758117     79.180470            70.440827   \n",
       "Echallens    68.3  73.744388     72.719716            56.529804   \n",
       "Moutier      85.8  72.234092     75.987317            52.966604   \n",
       "Morges       65.5  68.374447     61.500793            56.233434   \n",
       "Sierre       92.2  65.521665     74.584142            73.448374   \n",
       "\n",
       "           polynomial only interaction  baseline  lasso_lars  \n",
       "Moudon                       68.342976    71.536   70.270910  \n",
       "Echallens                    73.289903    71.536   70.911508  \n",
       "Moutier                      74.459845    71.536   71.223018  \n",
       "Morges                       56.666819    71.536   70.294021  \n",
       "Sierre                       77.953231    71.536   73.361275  "
      ]
     },
     "execution_count": 89,
     "metadata": {},
     "output_type": "execute_result"
    }
   ],
   "source": [
    "predictions.head()"
   ]
  },
  {
   "cell_type": "code",
   "execution_count": 90,
   "id": "2e6f9bb8",
   "metadata": {},
   "outputs": [],
   "source": [
    "from sklearn.linear_model import TweedieRegressor\n",
    "\n",
    "# create the model object\n",
    "glm = TweedieRegressor(power=1, alpha=0)\n",
    "\n",
    "# fit the model to our training data\n",
    "glm.fit(X_train, y_train)\n",
    "\n",
    "# predict validate\n",
    "X_validate_predict_glm = glm.predict(X_validate)\n",
    "\n",
    "# Add lassolars predictions to our predictions DataFrame\n",
    "predictions['glm'] = X_validate_predict_glm"
   ]
  },
  {
   "cell_type": "code",
   "execution_count": 91,
   "id": "06a86768",
   "metadata": {},
   "outputs": [
    {
     "data": {
      "text/plain": [
       "Examination        -0.011642\n",
       "Agriculture        -0.002267\n",
       "Education          -0.001696\n",
       "Catholic            0.001138\n",
       "Infant_Mortality    0.027350\n",
       "dtype: float64"
      ]
     },
     "execution_count": 91,
     "metadata": {},
     "output_type": "execute_result"
    }
   ],
   "source": [
    "pd.Series(glm.coef_, index=X_train.columns).sort_values()"
   ]
  },
  {
   "cell_type": "code",
   "execution_count": 92,
   "id": "63eb18fb",
   "metadata": {},
   "outputs": [
    {
     "data": {
      "text/plain": [
       "3.9950413580467807"
      ]
     },
     "execution_count": 92,
     "metadata": {},
     "output_type": "execute_result"
    }
   ],
   "source": [
    "glm.intercept_"
   ]
  },
  {
   "cell_type": "code",
   "execution_count": 93,
   "id": "5be9a0e1",
   "metadata": {},
   "outputs": [
    {
     "data": {
      "text/html": [
       "<div>\n",
       "<style scoped>\n",
       "    .dataframe tbody tr th:only-of-type {\n",
       "        vertical-align: middle;\n",
       "    }\n",
       "\n",
       "    .dataframe tbody tr th {\n",
       "        vertical-align: top;\n",
       "    }\n",
       "\n",
       "    .dataframe thead th {\n",
       "        text-align: right;\n",
       "    }\n",
       "</style>\n",
       "<table border=\"1\" class=\"dataframe\">\n",
       "  <thead>\n",
       "    <tr style=\"text-align: right;\">\n",
       "      <th></th>\n",
       "      <th>actual</th>\n",
       "      <th>simple_lm</th>\n",
       "      <th>multiple_rfe</th>\n",
       "      <th>polynomial degree 2</th>\n",
       "      <th>polynomial only interaction</th>\n",
       "      <th>baseline</th>\n",
       "      <th>lasso_lars</th>\n",
       "      <th>glm</th>\n",
       "    </tr>\n",
       "  </thead>\n",
       "  <tbody>\n",
       "    <tr>\n",
       "      <th>Moudon</th>\n",
       "      <td>65.0</td>\n",
       "      <td>75.758117</td>\n",
       "      <td>79.180470</td>\n",
       "      <td>70.440827</td>\n",
       "      <td>68.342976</td>\n",
       "      <td>71.536</td>\n",
       "      <td>70.270910</td>\n",
       "      <td>75.176028</td>\n",
       "    </tr>\n",
       "    <tr>\n",
       "      <th>Echallens</th>\n",
       "      <td>68.3</td>\n",
       "      <td>73.744388</td>\n",
       "      <td>72.719716</td>\n",
       "      <td>56.529804</td>\n",
       "      <td>73.289903</td>\n",
       "      <td>71.536</td>\n",
       "      <td>70.911508</td>\n",
       "      <td>68.365149</td>\n",
       "    </tr>\n",
       "    <tr>\n",
       "      <th>Moutier</th>\n",
       "      <td>85.8</td>\n",
       "      <td>72.234092</td>\n",
       "      <td>75.987317</td>\n",
       "      <td>52.966604</td>\n",
       "      <td>74.459845</td>\n",
       "      <td>71.536</td>\n",
       "      <td>71.223018</td>\n",
       "      <td>77.817211</td>\n",
       "    </tr>\n",
       "    <tr>\n",
       "      <th>Morges</th>\n",
       "      <td>65.5</td>\n",
       "      <td>68.374447</td>\n",
       "      <td>61.500793</td>\n",
       "      <td>56.233434</td>\n",
       "      <td>56.666819</td>\n",
       "      <td>71.536</td>\n",
       "      <td>70.294021</td>\n",
       "      <td>59.420292</td>\n",
       "    </tr>\n",
       "    <tr>\n",
       "      <th>Sierre</th>\n",
       "      <td>92.2</td>\n",
       "      <td>65.521665</td>\n",
       "      <td>74.584142</td>\n",
       "      <td>73.448374</td>\n",
       "      <td>77.953231</td>\n",
       "      <td>71.536</td>\n",
       "      <td>73.361275</td>\n",
       "      <td>75.356502</td>\n",
       "    </tr>\n",
       "  </tbody>\n",
       "</table>\n",
       "</div>"
      ],
      "text/plain": [
       "           actual  simple_lm  multiple_rfe  polynomial degree 2  \\\n",
       "Moudon       65.0  75.758117     79.180470            70.440827   \n",
       "Echallens    68.3  73.744388     72.719716            56.529804   \n",
       "Moutier      85.8  72.234092     75.987317            52.966604   \n",
       "Morges       65.5  68.374447     61.500793            56.233434   \n",
       "Sierre       92.2  65.521665     74.584142            73.448374   \n",
       "\n",
       "           polynomial only interaction  baseline  lasso_lars        glm  \n",
       "Moudon                       68.342976    71.536   70.270910  75.176028  \n",
       "Echallens                    73.289903    71.536   70.911508  68.365149  \n",
       "Moutier                      74.459845    71.536   71.223018  77.817211  \n",
       "Morges                       56.666819    71.536   70.294021  59.420292  \n",
       "Sierre                       77.953231    71.536   73.361275  75.356502  "
      ]
     },
     "execution_count": 93,
     "metadata": {},
     "output_type": "execute_result"
    }
   ],
   "source": [
    "predictions.head()"
   ]
  },
  {
   "cell_type": "code",
   "execution_count": 94,
   "id": "51fdc8e1",
   "metadata": {},
   "outputs": [
    {
     "data": {
      "text/plain": [
       "actual                           0.000000\n",
       "glm                            148.117659\n",
       "multiple_rfe                   152.658638\n",
       "lasso_lars                     212.689055\n",
       "baseline                       218.478263\n",
       "simple_lm                      226.385260\n",
       "polynomial only interaction    278.289035\n",
       "polynomial degree 2            710.620538\n",
       "dtype: float64"
      ]
     },
     "execution_count": 94,
     "metadata": {},
     "output_type": "execute_result"
    }
   ],
   "source": [
    "def calculate_mse(y_predicted):\n",
    "    return mean_squared_error(predictions.actual, y_predicted)\n",
    "\n",
    "predictions.apply(calculate_mse).sort_values()"
   ]
  },
  {
   "cell_type": "code",
   "execution_count": 95,
   "id": "13cb4503",
   "metadata": {},
   "outputs": [
    {
     "data": {
      "text/plain": [
       "LinearRegression()"
      ]
     },
     "execution_count": 95,
     "metadata": {},
     "output_type": "execute_result"
    }
   ],
   "source": [
    "# re-create our polynomial model\n",
    "X_train = train[['Agriculture', 'Examination', 'Education', 'Catholic','Infant_Mortality']]\n",
    "y_train = train.Fertility\n",
    "\n",
    "poly = PolynomialFeatures(degree=2, include_bias=False, interaction_only=False)\n",
    "poly.fit(X_train)\n",
    "X_train_poly = pd.DataFrame(\n",
    "    poly.transform(X_train),\n",
    "    columns=poly.get_feature_names(X_train.columns),\n",
    "    index=train.index,\n",
    ")\n",
    "\n",
    "lm = LinearRegression()\n",
    "lm.fit(X_train_poly, y_train)"
   ]
  },
  {
   "cell_type": "code",
   "execution_count": 96,
   "id": "90a1f501",
   "metadata": {},
   "outputs": [],
   "source": [
    "# any transformations applied to your training data must be applied to the test as well\n",
    "\n",
    "X_test = test[['Agriculture', 'Examination', 'Education', 'Catholic','Infant_Mortality']]\n",
    "X_test_poly = poly.transform(X_test)\n",
    "\n",
    "test_predictions = lm.predict(X_test_poly)\n",
    "test_actual = test.Fertility"
   ]
  },
  {
   "cell_type": "code",
   "execution_count": 97,
   "id": "9b6d69a9",
   "metadata": {},
   "outputs": [
    {
     "data": {
      "text/plain": [
       "3572.0142190104852"
      ]
     },
     "execution_count": 97,
     "metadata": {},
     "output_type": "execute_result"
    }
   ],
   "source": [
    "mean_squared_error(test_actual, test_predictions)"
   ]
  },
  {
   "cell_type": "code",
   "execution_count": null,
   "id": "286133c0",
   "metadata": {},
   "outputs": [],
   "source": []
  },
  {
   "cell_type": "code",
   "execution_count": null,
   "id": "ddc27a4b",
   "metadata": {},
   "outputs": [],
   "source": []
  },
  {
   "cell_type": "code",
   "execution_count": null,
   "id": "9844c007",
   "metadata": {},
   "outputs": [],
   "source": []
  }
 ],
 "metadata": {
  "kernelspec": {
   "display_name": "Python 3 (ipykernel)",
   "language": "python",
   "name": "python3"
  },
  "language_info": {
   "codemirror_mode": {
    "name": "ipython",
    "version": 3
   },
   "file_extension": ".py",
   "mimetype": "text/x-python",
   "name": "python",
   "nbconvert_exporter": "python",
   "pygments_lexer": "ipython3",
   "version": "3.9.12"
  }
 },
 "nbformat": 4,
 "nbformat_minor": 5
}
