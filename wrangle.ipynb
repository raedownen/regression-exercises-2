{
 "cells": [
  {
   "cell_type": "code",
   "execution_count": 1,
   "id": "71abd591",
   "metadata": {},
   "outputs": [],
   "source": [
    "################################################### IMPORT #########################################################\n",
    "# importing of all needed libraries and modules.  \n",
    "import pandas as pd\n",
    "import numpy as np\n",
    "import seaborn as sns\n",
    "import matplotlib.pyplot as plt\n",
    "%matplotlib inline\n",
    "from scipy import stats\n",
    "from scipy.stats import pearsonr, spearmanr\n",
    "import wrangle\n",
    "from sklearn.feature_selection import SelectKBest, RFE, f_regression, SequentialFeatureSelector\n",
    "from sklearn.linear_model import LinearRegression\n",
    "from sklearn.impute import SimpleImputer\n",
    "import sklearn.preprocessing\n",
    "from sklearn.model_selection import train_test_split\n",
    "from sklearn.preprocessing import MinMaxScaler, StandardScaler, RobustScaler, QuantileTransformer\n",
    "from sklearn.neighbors import KNeighborsClassifier\n",
    "from sklearn.metrics import mean_squared_error\n",
    "import wrangle\n",
    "import os\n",
    "from pathlib import Path\n",
    "import warnings\n",
    "warnings.filterwarnings(\"ignore\")\n",
    "from env import host, user, password\n",
    "def get_db_url(db, user=user, host=host, password=password):\n",
    "    '''\n",
    "    This function uses my info from my env file \n",
    "    to create a connection url to access the codeup db.\n",
    "    '''\n",
    "    return f'mysql+pymysql://{user}:{password}@{host}/{db}'"
   ]
  },
  {
   "cell_type": "raw",
   "id": "f22a3c4f",
   "metadata": {},
   "source": [
    "################################################### Acquire #########################################################\n",
    "# use this function the 1st time to get initial dataset.\n",
    "def new_zillow_data():\n",
    "    '''This function reads in zillow data from Codeup database.'''\n",
    "    sql_query = \n",
    "    \"\"\"\n",
    "    USE zillow;\n",
    "\n",
    "    SELECT \n",
    "    properties_2017.fullbathcnt,\n",
    "    properties_2017.bedroomcnt,\n",
    "    properties_2017.bathroomcnt,\n",
    "    properties_2017.calculatedfinishedsquarefeet,\n",
    "    properties_2017.taxvaluedollarcnt\n",
    "    FROM predictions_2017\n",
    "    JOIN properties_2017\n",
    "    ON predictions_2017.parcelid = properties_2017.parcelid\n",
    "    JOIN propertylandusetype\n",
    "    ON properties_2017.propertylandusetypeid = propertylandusetype.propertylandusetypeid\n",
    "    WHERE propertylandusetype.propertylandusetypeid = '261'\n",
    "    AND predictions_2017.transactiondate between '2017-01-01' AND '2017-12-31';\n",
    "\n",
    "    \"\"\"\n",
    "    # Read in DataFrame from Codeup db.\n",
    "    #df = pd.read_sql(sql_query, get_db_url('zillow'))\n",
    "    #return df\n"
   ]
  },
  {
   "cell_type": "code",
   "execution_count": 3,
   "id": "8d294147",
   "metadata": {},
   "outputs": [],
   "source": [
    "def get_zillow_data():\n",
    "    '''\n",
    "    This function reads in zillow data from Codeup database, writes data to\n",
    "    a csv file if a local file does not exist, and returns a df.\n",
    "    '''\n",
    "    if os.path.isfile('zillow.csv'):\n",
    "        #If csv file exists read in data from csv file.\n",
    "        df = pd.read_csv('zillow.csv')\n",
    "        \n",
    "    else:\n",
    "        \n",
    "        #Read fresh data from db into a DataFrame\n",
    "        df = new_zillow_data()\n",
    "        \n",
    "        #Cache data\n",
    "        df.to_csv('zillow.csv')\n",
    "        \n",
    "    return df\n",
    "\n"
   ]
  },
  {
   "cell_type": "code",
   "execution_count": null,
   "id": "ec51caf6",
   "metadata": {},
   "outputs": [],
   "source": [
    "def prep_zillow_data(df):\n",
    "    #Replace a whitespace sequence or empty with a NaN value and reassign this manipulation to df.\n",
    "    df = df.replace(r'^\\s*$', np.nan, regex=True)\n",
    "    \n",
    "    #Drop all rows with any Null values, assign to df, and verify with df.info().\n",
    "    df = df.dropna()\n",
    "    \n",
    "    #rename the columns so they are human readable\n",
    "    df=df.rename(columns={\"bedroomcnt\":\"bedrooms\",\"bathroomcnt\":\"bathrooms\",\n",
    "                          \"calculatedfinishedsquarefeet\":\"square_feet\", \n",
    "                          \"taxvaluedollarcnt\": \"total_home_value\",})\n",
    "\n",
    "    # Remove outliers\n",
    "   # df = (df[df.Bathrooms <= 5])\n",
    "   # df = df[df.Bedrooms <= 6] \n",
    "   # df = df[df.Total_Home_Value < 2_000_000]\n",
    "   # df = df[df.Square_Feet < 10000]\n",
    "    \n",
    "   # df.to_csv('clean_zillow.csv')\n",
    "    \n",
    "  #  return df\n"
   ]
  },
  {
   "cell_type": "code",
   "execution_count": null,
   "id": "e7f252cb",
   "metadata": {
    "scrolled": true
   },
   "outputs": [],
   "source": [
    "df=wrangle.get_zillow_data()"
   ]
  },
  {
   "cell_type": "code",
   "execution_count": null,
   "id": "540b6c1a",
   "metadata": {},
   "outputs": [],
   "source": [
    "df=wrangle.prep_zillow_data(df)"
   ]
  },
  {
   "cell_type": "code",
   "execution_count": null,
   "id": "57c3c815",
   "metadata": {},
   "outputs": [],
   "source": [
    "#EXPLORE \n",
    "#view the 1st 5 observations\n",
    "df.head()"
   ]
  },
  {
   "cell_type": "code",
   "execution_count": null,
   "id": "7ed20956",
   "metadata": {},
   "outputs": [],
   "source": [
    "#view # of columns and rows\n",
    "df.shape"
   ]
  },
  {
   "cell_type": "code",
   "execution_count": null,
   "id": "2a21bd0c",
   "metadata": {},
   "outputs": [],
   "source": [
    "#view spread of data T=transpose\n",
    "#df.describe()\n",
    "df.describe().T"
   ]
  },
  {
   "cell_type": "code",
   "execution_count": null,
   "id": "f521a776",
   "metadata": {},
   "outputs": [],
   "source": [
    "#view info, rows, columns, dtype, counts of data\n",
    "df.info(show_counts=True)"
   ]
  },
  {
   "cell_type": "code",
   "execution_count": null,
   "id": "327c4338",
   "metadata": {},
   "outputs": [],
   "source": [
    "#Viz-we don't have to split our data before exploring single variables. \n",
    "#We DO have to split our data before performing bi- and multi-variate exploration.\n",
    "#We can use Seaborn's displot to display the binned values from a column.\n"
   ]
  },
  {
   "cell_type": "code",
   "execution_count": null,
   "id": "bd9fb2ec",
   "metadata": {},
   "outputs": [],
   "source": [
    "sns.boxplot(df['Bedrooms'])"
   ]
  },
  {
   "cell_type": "code",
   "execution_count": null,
   "id": "8a1e7818",
   "metadata": {},
   "outputs": [],
   "source": [
    "sns.boxplot(df['Bathrooms'])"
   ]
  },
  {
   "cell_type": "code",
   "execution_count": null,
   "id": "d743a681",
   "metadata": {},
   "outputs": [],
   "source": [
    "sns.boxplot(df['Square_Feet'])"
   ]
  },
  {
   "cell_type": "code",
   "execution_count": null,
   "id": "d7701957",
   "metadata": {},
   "outputs": [],
   "source": [
    "sns.boxplot(df['Taxes'])"
   ]
  },
  {
   "cell_type": "code",
   "execution_count": null,
   "id": "6948348f",
   "metadata": {},
   "outputs": [],
   "source": [
    "#def split_zillow_data(df):\n",
    "  #  '''\n",
    "  #  This function performs split on zillow data\n",
    "  #  Returns train, validate, and test dfs.\n",
    "  #  '''\n",
    "   # train_validate, test = train_test_split(df, test_size=.2, \n",
    "   #                                     random_state=123)\n",
    "   # train, validate = train_test_split(train_validate, test_size=.3, \n",
    "   #                                random_state=123)\n",
    "   # return train, validate, test"
   ]
  },
  {
   "cell_type": "code",
   "execution_count": null,
   "id": "7202a00d",
   "metadata": {},
   "outputs": [],
   "source": [
    "train, validate, test = wrangle.split_zillow_data(df)"
   ]
  },
  {
   "cell_type": "code",
   "execution_count": null,
   "id": "9d6d3076",
   "metadata": {},
   "outputs": [],
   "source": [
    "train.head()"
   ]
  },
  {
   "cell_type": "code",
   "execution_count": null,
   "id": "3b32e9cf",
   "metadata": {},
   "outputs": [],
   "source": [
    "train.shape"
   ]
  },
  {
   "cell_type": "code",
   "execution_count": null,
   "id": "c229626d",
   "metadata": {},
   "outputs": [],
   "source": [
    "validate.shape"
   ]
  },
  {
   "cell_type": "code",
   "execution_count": null,
   "id": "92249ebb",
   "metadata": {},
   "outputs": [],
   "source": [
    "test.shape"
   ]
  },
  {
   "cell_type": "code",
   "execution_count": null,
   "id": "a5b95218",
   "metadata": {},
   "outputs": [],
   "source": [
    "\n"
   ]
  },
  {
   "cell_type": "code",
   "execution_count": null,
   "id": "ae0f3b51",
   "metadata": {},
   "outputs": [],
   "source": []
  }
 ],
 "metadata": {
  "kernelspec": {
   "display_name": "Python 3 (ipykernel)",
   "language": "python",
   "name": "python3"
  },
  "language_info": {
   "codemirror_mode": {
    "name": "ipython",
    "version": 3
   },
   "file_extension": ".py",
   "mimetype": "text/x-python",
   "name": "python",
   "nbconvert_exporter": "python",
   "pygments_lexer": "ipython3",
   "version": "3.9.12"
  }
 },
 "nbformat": 4,
 "nbformat_minor": 5
}
